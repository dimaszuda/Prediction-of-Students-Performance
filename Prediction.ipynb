{
  "nbformat": 4,
  "nbformat_minor": 0,
  "metadata": {
    "colab": {
      "provenance": [],
      "authorship_tag": "ABX9TyPB7DtpR4EySkqIYvaorOQZ",
      "include_colab_link": true
    },
    "kernelspec": {
      "name": "python3",
      "display_name": "Python 3"
    },
    "language_info": {
      "name": "python"
    }
  },
  "cells": [
    {
      "cell_type": "markdown",
      "metadata": {
        "id": "view-in-github",
        "colab_type": "text"
      },
      "source": [
        "<a href=\"https://colab.research.google.com/github/dimaszuda/Prediction-of-Students-Performance/blob/main/Prediction.ipynb\" target=\"_parent\"><img src=\"https://colab.research.google.com/assets/colab-badge.svg\" alt=\"Open In Colab\"/></a>"
      ]
    },
    {
      "cell_type": "code",
      "execution_count": 278,
      "metadata": {
        "id": "ZZtrblOZQARN"
      },
      "outputs": [],
      "source": [
        "import pandas as pd\n",
        "from matplotlib import pyplot as plt\n",
        "import seaborn as sns\n",
        "from sklearn.preprocessing import MinMaxScaler\n",
        "import tensorflow as tf\n",
        "from scipy.stats import spearmanr\n",
        "from sklearn.model_selection import train_test_split"
      ]
    },
    {
      "cell_type": "code",
      "source": [
        "!wget https://raw.githubusercontent.com/dimaszuda/Prediction-of-Students-Performance/main/StudentsPerformance.csv"
      ],
      "metadata": {
        "colab": {
          "base_uri": "https://localhost:8080/"
        },
        "id": "f1U0khMCRcLs",
        "outputId": "6926f623-f41d-4396-c41b-6968ca10b381"
      },
      "execution_count": 6,
      "outputs": [
        {
          "output_type": "stream",
          "name": "stdout",
          "text": [
            "--2023-06-24 07:38:35--  https://raw.githubusercontent.com/dimaszuda/Prediction-of-Students-Performance/main/StudentsPerformance.csv\n",
            "Resolving raw.githubusercontent.com (raw.githubusercontent.com)... 185.199.108.133, 185.199.109.133, 185.199.110.133, ...\n",
            "Connecting to raw.githubusercontent.com (raw.githubusercontent.com)|185.199.108.133|:443... connected.\n",
            "HTTP request sent, awaiting response... 200 OK\n",
            "Length: 72036 (70K) [text/plain]\n",
            "Saving to: ‘StudentsPerformance.csv’\n",
            "\n",
            "\rStudentsPerformance   0%[                    ]       0  --.-KB/s               \rStudentsPerformance 100%[===================>]  70.35K  --.-KB/s    in 0.01s   \n",
            "\n",
            "2023-06-24 07:38:35 (6.16 MB/s) - ‘StudentsPerformance.csv’ saved [72036/72036]\n",
            "\n"
          ]
        }
      ]
    },
    {
      "cell_type": "code",
      "source": [
        "df = pd.read_csv('StudentsPerformance.csv')"
      ],
      "metadata": {
        "id": "KoU752u6VzNn"
      },
      "execution_count": 279,
      "outputs": []
    },
    {
      "cell_type": "code",
      "source": [
        "df.head(3)"
      ],
      "metadata": {
        "colab": {
          "base_uri": "https://localhost:8080/",
          "height": 143
        },
        "id": "vClOxS9EV7AI",
        "outputId": "827d9b65-cbfd-43ea-ae47-2f3753514963"
      },
      "execution_count": 280,
      "outputs": [
        {
          "output_type": "execute_result",
          "data": {
            "text/plain": [
              "   gender race/ethnicity parental level of education     lunch  \\\n",
              "0  female        group B           bachelor's degree  standard   \n",
              "1  female        group C                some college  standard   \n",
              "2  female        group B             master's degree  standard   \n",
              "\n",
              "  test preparation course  math score  reading score  writing score  \n",
              "0                    none          72             72             74  \n",
              "1               completed          69             90             88  \n",
              "2                    none          90             95             93  "
            ],
            "text/html": [
              "\n",
              "  <div id=\"df-37a9208f-675c-4527-bcd9-fa335fc9822a\">\n",
              "    <div class=\"colab-df-container\">\n",
              "      <div>\n",
              "<style scoped>\n",
              "    .dataframe tbody tr th:only-of-type {\n",
              "        vertical-align: middle;\n",
              "    }\n",
              "\n",
              "    .dataframe tbody tr th {\n",
              "        vertical-align: top;\n",
              "    }\n",
              "\n",
              "    .dataframe thead th {\n",
              "        text-align: right;\n",
              "    }\n",
              "</style>\n",
              "<table border=\"1\" class=\"dataframe\">\n",
              "  <thead>\n",
              "    <tr style=\"text-align: right;\">\n",
              "      <th></th>\n",
              "      <th>gender</th>\n",
              "      <th>race/ethnicity</th>\n",
              "      <th>parental level of education</th>\n",
              "      <th>lunch</th>\n",
              "      <th>test preparation course</th>\n",
              "      <th>math score</th>\n",
              "      <th>reading score</th>\n",
              "      <th>writing score</th>\n",
              "    </tr>\n",
              "  </thead>\n",
              "  <tbody>\n",
              "    <tr>\n",
              "      <th>0</th>\n",
              "      <td>female</td>\n",
              "      <td>group B</td>\n",
              "      <td>bachelor's degree</td>\n",
              "      <td>standard</td>\n",
              "      <td>none</td>\n",
              "      <td>72</td>\n",
              "      <td>72</td>\n",
              "      <td>74</td>\n",
              "    </tr>\n",
              "    <tr>\n",
              "      <th>1</th>\n",
              "      <td>female</td>\n",
              "      <td>group C</td>\n",
              "      <td>some college</td>\n",
              "      <td>standard</td>\n",
              "      <td>completed</td>\n",
              "      <td>69</td>\n",
              "      <td>90</td>\n",
              "      <td>88</td>\n",
              "    </tr>\n",
              "    <tr>\n",
              "      <th>2</th>\n",
              "      <td>female</td>\n",
              "      <td>group B</td>\n",
              "      <td>master's degree</td>\n",
              "      <td>standard</td>\n",
              "      <td>none</td>\n",
              "      <td>90</td>\n",
              "      <td>95</td>\n",
              "      <td>93</td>\n",
              "    </tr>\n",
              "  </tbody>\n",
              "</table>\n",
              "</div>\n",
              "      <button class=\"colab-df-convert\" onclick=\"convertToInteractive('df-37a9208f-675c-4527-bcd9-fa335fc9822a')\"\n",
              "              title=\"Convert this dataframe to an interactive table.\"\n",
              "              style=\"display:none;\">\n",
              "        \n",
              "  <svg xmlns=\"http://www.w3.org/2000/svg\" height=\"24px\"viewBox=\"0 0 24 24\"\n",
              "       width=\"24px\">\n",
              "    <path d=\"M0 0h24v24H0V0z\" fill=\"none\"/>\n",
              "    <path d=\"M18.56 5.44l.94 2.06.94-2.06 2.06-.94-2.06-.94-.94-2.06-.94 2.06-2.06.94zm-11 1L8.5 8.5l.94-2.06 2.06-.94-2.06-.94L8.5 2.5l-.94 2.06-2.06.94zm10 10l.94 2.06.94-2.06 2.06-.94-2.06-.94-.94-2.06-.94 2.06-2.06.94z\"/><path d=\"M17.41 7.96l-1.37-1.37c-.4-.4-.92-.59-1.43-.59-.52 0-1.04.2-1.43.59L10.3 9.45l-7.72 7.72c-.78.78-.78 2.05 0 2.83L4 21.41c.39.39.9.59 1.41.59.51 0 1.02-.2 1.41-.59l7.78-7.78 2.81-2.81c.8-.78.8-2.07 0-2.86zM5.41 20L4 18.59l7.72-7.72 1.47 1.35L5.41 20z\"/>\n",
              "  </svg>\n",
              "      </button>\n",
              "      \n",
              "  <style>\n",
              "    .colab-df-container {\n",
              "      display:flex;\n",
              "      flex-wrap:wrap;\n",
              "      gap: 12px;\n",
              "    }\n",
              "\n",
              "    .colab-df-convert {\n",
              "      background-color: #E8F0FE;\n",
              "      border: none;\n",
              "      border-radius: 50%;\n",
              "      cursor: pointer;\n",
              "      display: none;\n",
              "      fill: #1967D2;\n",
              "      height: 32px;\n",
              "      padding: 0 0 0 0;\n",
              "      width: 32px;\n",
              "    }\n",
              "\n",
              "    .colab-df-convert:hover {\n",
              "      background-color: #E2EBFA;\n",
              "      box-shadow: 0px 1px 2px rgba(60, 64, 67, 0.3), 0px 1px 3px 1px rgba(60, 64, 67, 0.15);\n",
              "      fill: #174EA6;\n",
              "    }\n",
              "\n",
              "    [theme=dark] .colab-df-convert {\n",
              "      background-color: #3B4455;\n",
              "      fill: #D2E3FC;\n",
              "    }\n",
              "\n",
              "    [theme=dark] .colab-df-convert:hover {\n",
              "      background-color: #434B5C;\n",
              "      box-shadow: 0px 1px 3px 1px rgba(0, 0, 0, 0.15);\n",
              "      filter: drop-shadow(0px 1px 2px rgba(0, 0, 0, 0.3));\n",
              "      fill: #FFFFFF;\n",
              "    }\n",
              "  </style>\n",
              "\n",
              "      <script>\n",
              "        const buttonEl =\n",
              "          document.querySelector('#df-37a9208f-675c-4527-bcd9-fa335fc9822a button.colab-df-convert');\n",
              "        buttonEl.style.display =\n",
              "          google.colab.kernel.accessAllowed ? 'block' : 'none';\n",
              "\n",
              "        async function convertToInteractive(key) {\n",
              "          const element = document.querySelector('#df-37a9208f-675c-4527-bcd9-fa335fc9822a');\n",
              "          const dataTable =\n",
              "            await google.colab.kernel.invokeFunction('convertToInteractive',\n",
              "                                                     [key], {});\n",
              "          if (!dataTable) return;\n",
              "\n",
              "          const docLinkHtml = 'Like what you see? Visit the ' +\n",
              "            '<a target=\"_blank\" href=https://colab.research.google.com/notebooks/data_table.ipynb>data table notebook</a>'\n",
              "            + ' to learn more about interactive tables.';\n",
              "          element.innerHTML = '';\n",
              "          dataTable['output_type'] = 'display_data';\n",
              "          await google.colab.output.renderOutput(dataTable, element);\n",
              "          const docLink = document.createElement('div');\n",
              "          docLink.innerHTML = docLinkHtml;\n",
              "          element.appendChild(docLink);\n",
              "        }\n",
              "      </script>\n",
              "    </div>\n",
              "  </div>\n",
              "  "
            ]
          },
          "metadata": {},
          "execution_count": 280
        }
      ]
    },
    {
      "cell_type": "code",
      "source": [
        "columns = ['gender',\n",
        "           'parental level of education',\n",
        "           'lunch',\n",
        "           'test preparation course',\n",
        "           'math score',\n",
        "           'reading score',\n",
        "           'writing score']"
      ],
      "metadata": {
        "id": "xZ6nit9KV_Vu"
      },
      "execution_count": 281,
      "outputs": []
    },
    {
      "cell_type": "code",
      "source": [
        "df = df[columns]"
      ],
      "metadata": {
        "id": "AfQX29lCWh4-"
      },
      "execution_count": 282,
      "outputs": []
    },
    {
      "cell_type": "code",
      "source": [
        "df = df.drop_duplicates()"
      ],
      "metadata": {
        "id": "a6yoamfbWkdK"
      },
      "execution_count": 283,
      "outputs": []
    },
    {
      "cell_type": "code",
      "source": [
        "df = df.rename(columns= {'parental level of education' : 'parent edu', 'test preparation course' : 'preparation'})"
      ],
      "metadata": {
        "id": "mO9SdLgEXQYv"
      },
      "execution_count": 284,
      "outputs": []
    },
    {
      "cell_type": "code",
      "source": [
        "df['gender'].map(lambda x: {1: 'male', 2: 'female'}.get(x))"
      ],
      "metadata": {
        "colab": {
          "base_uri": "https://localhost:8080/"
        },
        "id": "S7FdKaJZW9RV",
        "outputId": "64330941-4ecc-4fab-bc33-398190d4c1bf"
      },
      "execution_count": 285,
      "outputs": [
        {
          "output_type": "execute_result",
          "data": {
            "text/plain": [
              "0      None\n",
              "1      None\n",
              "2      None\n",
              "3      None\n",
              "4      None\n",
              "       ... \n",
              "995    None\n",
              "996    None\n",
              "997    None\n",
              "998    None\n",
              "999    None\n",
              "Name: gender, Length: 1000, dtype: object"
            ]
          },
          "metadata": {},
          "execution_count": 285
        }
      ]
    },
    {
      "cell_type": "code",
      "source": [
        "df['parent edu'].unique()"
      ],
      "metadata": {
        "colab": {
          "base_uri": "https://localhost:8080/"
        },
        "id": "PjEyNjhuXzpi",
        "outputId": "00d827cb-351f-4424-854e-1f76458d8318"
      },
      "execution_count": 286,
      "outputs": [
        {
          "output_type": "execute_result",
          "data": {
            "text/plain": [
              "array([\"bachelor's degree\", 'some college', \"master's degree\",\n",
              "       \"associate's degree\", 'high school', 'some high school'],\n",
              "      dtype=object)"
            ]
          },
          "metadata": {},
          "execution_count": 286
        }
      ]
    },
    {
      "cell_type": "code",
      "source": [
        "df['parent edu'].map(lambda x: {1 : 'bachelor\\'s degree',\n",
        "                                2 : 'some college',\n",
        "                                3 : 'master\\'s degree',\n",
        "                                4 : 'associate\\' degree',\n",
        "                                5 : 'high school',\n",
        "                                6 : 'some high school'}.get(x))"
      ],
      "metadata": {
        "colab": {
          "base_uri": "https://localhost:8080/"
        },
        "id": "GIgKiyNrYOq1",
        "outputId": "f35e65a3-9e2c-4932-8680-7f4e0def9a70"
      },
      "execution_count": 287,
      "outputs": [
        {
          "output_type": "execute_result",
          "data": {
            "text/plain": [
              "0      None\n",
              "1      None\n",
              "2      None\n",
              "3      None\n",
              "4      None\n",
              "       ... \n",
              "995    None\n",
              "996    None\n",
              "997    None\n",
              "998    None\n",
              "999    None\n",
              "Name: parent edu, Length: 1000, dtype: object"
            ]
          },
          "metadata": {},
          "execution_count": 287
        }
      ]
    },
    {
      "cell_type": "code",
      "source": [
        "df['lunch'].unique()"
      ],
      "metadata": {
        "colab": {
          "base_uri": "https://localhost:8080/"
        },
        "id": "rlYFAowOY0pt",
        "outputId": "c9f9ae38-e9f4-4e00-8ff9-8f2eaea54c06"
      },
      "execution_count": 288,
      "outputs": [
        {
          "output_type": "execute_result",
          "data": {
            "text/plain": [
              "array(['standard', 'free/reduced'], dtype=object)"
            ]
          },
          "metadata": {},
          "execution_count": 288
        }
      ]
    },
    {
      "cell_type": "code",
      "source": [
        "df['lunch'].map(lambda x: {1 : 'standard', 2 : 'free/reduced'}.get(x))"
      ],
      "metadata": {
        "colab": {
          "base_uri": "https://localhost:8080/"
        },
        "id": "oZILsnCPY51Y",
        "outputId": "ab7823fa-bb4b-41fb-eadd-71c993538121"
      },
      "execution_count": 289,
      "outputs": [
        {
          "output_type": "execute_result",
          "data": {
            "text/plain": [
              "0      None\n",
              "1      None\n",
              "2      None\n",
              "3      None\n",
              "4      None\n",
              "       ... \n",
              "995    None\n",
              "996    None\n",
              "997    None\n",
              "998    None\n",
              "999    None\n",
              "Name: lunch, Length: 1000, dtype: object"
            ]
          },
          "metadata": {},
          "execution_count": 289
        }
      ]
    },
    {
      "cell_type": "code",
      "source": [
        "df['preparation'].unique()"
      ],
      "metadata": {
        "colab": {
          "base_uri": "https://localhost:8080/"
        },
        "id": "-jsYi-MUZFnX",
        "outputId": "70df3302-78c6-47bc-e8cc-4984a168b9b2"
      },
      "execution_count": 290,
      "outputs": [
        {
          "output_type": "execute_result",
          "data": {
            "text/plain": [
              "array(['none', 'completed'], dtype=object)"
            ]
          },
          "metadata": {},
          "execution_count": 290
        }
      ]
    },
    {
      "cell_type": "code",
      "source": [
        "df['preparation'].map(lambda x: {1 : 'none', 2 : 'completed'}.get(x))"
      ],
      "metadata": {
        "colab": {
          "base_uri": "https://localhost:8080/"
        },
        "id": "tC9KiiIYZLn4",
        "outputId": "43533890-ef7b-4382-ce6f-7e6b2d448864"
      },
      "execution_count": 291,
      "outputs": [
        {
          "output_type": "execute_result",
          "data": {
            "text/plain": [
              "0      None\n",
              "1      None\n",
              "2      None\n",
              "3      None\n",
              "4      None\n",
              "       ... \n",
              "995    None\n",
              "996    None\n",
              "997    None\n",
              "998    None\n",
              "999    None\n",
              "Name: preparation, Length: 1000, dtype: object"
            ]
          },
          "metadata": {},
          "execution_count": 291
        }
      ]
    },
    {
      "cell_type": "code",
      "source": [
        "df = pd.get_dummies(df, prefix='', prefix_sep='')"
      ],
      "metadata": {
        "id": "PMk3QCbBZUxY"
      },
      "execution_count": 292,
      "outputs": []
    },
    {
      "cell_type": "code",
      "source": [
        "df.tail(2)"
      ],
      "metadata": {
        "colab": {
          "base_uri": "https://localhost:8080/",
          "height": 173
        },
        "id": "gmuZVe09Zpet",
        "outputId": "70edeffb-8c49-4897-ff3e-91a6616b9590"
      },
      "execution_count": 293,
      "outputs": [
        {
          "output_type": "execute_result",
          "data": {
            "text/plain": [
              "     math score  reading score  writing score  female  male  \\\n",
              "998          68             78             77       1     0   \n",
              "999          77             86             86       1     0   \n",
              "\n",
              "     associate's degree  bachelor's degree  high school  master's degree  \\\n",
              "998                   0                  0            0                0   \n",
              "999                   0                  0            0                0   \n",
              "\n",
              "     some college  some high school  free/reduced  standard  completed  none  \n",
              "998             1                 0             0         1          1     0  \n",
              "999             1                 0             1         0          0     1  "
            ],
            "text/html": [
              "\n",
              "  <div id=\"df-85129b77-7581-4e80-8036-4014052f0132\">\n",
              "    <div class=\"colab-df-container\">\n",
              "      <div>\n",
              "<style scoped>\n",
              "    .dataframe tbody tr th:only-of-type {\n",
              "        vertical-align: middle;\n",
              "    }\n",
              "\n",
              "    .dataframe tbody tr th {\n",
              "        vertical-align: top;\n",
              "    }\n",
              "\n",
              "    .dataframe thead th {\n",
              "        text-align: right;\n",
              "    }\n",
              "</style>\n",
              "<table border=\"1\" class=\"dataframe\">\n",
              "  <thead>\n",
              "    <tr style=\"text-align: right;\">\n",
              "      <th></th>\n",
              "      <th>math score</th>\n",
              "      <th>reading score</th>\n",
              "      <th>writing score</th>\n",
              "      <th>female</th>\n",
              "      <th>male</th>\n",
              "      <th>associate's degree</th>\n",
              "      <th>bachelor's degree</th>\n",
              "      <th>high school</th>\n",
              "      <th>master's degree</th>\n",
              "      <th>some college</th>\n",
              "      <th>some high school</th>\n",
              "      <th>free/reduced</th>\n",
              "      <th>standard</th>\n",
              "      <th>completed</th>\n",
              "      <th>none</th>\n",
              "    </tr>\n",
              "  </thead>\n",
              "  <tbody>\n",
              "    <tr>\n",
              "      <th>998</th>\n",
              "      <td>68</td>\n",
              "      <td>78</td>\n",
              "      <td>77</td>\n",
              "      <td>1</td>\n",
              "      <td>0</td>\n",
              "      <td>0</td>\n",
              "      <td>0</td>\n",
              "      <td>0</td>\n",
              "      <td>0</td>\n",
              "      <td>1</td>\n",
              "      <td>0</td>\n",
              "      <td>0</td>\n",
              "      <td>1</td>\n",
              "      <td>1</td>\n",
              "      <td>0</td>\n",
              "    </tr>\n",
              "    <tr>\n",
              "      <th>999</th>\n",
              "      <td>77</td>\n",
              "      <td>86</td>\n",
              "      <td>86</td>\n",
              "      <td>1</td>\n",
              "      <td>0</td>\n",
              "      <td>0</td>\n",
              "      <td>0</td>\n",
              "      <td>0</td>\n",
              "      <td>0</td>\n",
              "      <td>1</td>\n",
              "      <td>0</td>\n",
              "      <td>1</td>\n",
              "      <td>0</td>\n",
              "      <td>0</td>\n",
              "      <td>1</td>\n",
              "    </tr>\n",
              "  </tbody>\n",
              "</table>\n",
              "</div>\n",
              "      <button class=\"colab-df-convert\" onclick=\"convertToInteractive('df-85129b77-7581-4e80-8036-4014052f0132')\"\n",
              "              title=\"Convert this dataframe to an interactive table.\"\n",
              "              style=\"display:none;\">\n",
              "        \n",
              "  <svg xmlns=\"http://www.w3.org/2000/svg\" height=\"24px\"viewBox=\"0 0 24 24\"\n",
              "       width=\"24px\">\n",
              "    <path d=\"M0 0h24v24H0V0z\" fill=\"none\"/>\n",
              "    <path d=\"M18.56 5.44l.94 2.06.94-2.06 2.06-.94-2.06-.94-.94-2.06-.94 2.06-2.06.94zm-11 1L8.5 8.5l.94-2.06 2.06-.94-2.06-.94L8.5 2.5l-.94 2.06-2.06.94zm10 10l.94 2.06.94-2.06 2.06-.94-2.06-.94-.94-2.06-.94 2.06-2.06.94z\"/><path d=\"M17.41 7.96l-1.37-1.37c-.4-.4-.92-.59-1.43-.59-.52 0-1.04.2-1.43.59L10.3 9.45l-7.72 7.72c-.78.78-.78 2.05 0 2.83L4 21.41c.39.39.9.59 1.41.59.51 0 1.02-.2 1.41-.59l7.78-7.78 2.81-2.81c.8-.78.8-2.07 0-2.86zM5.41 20L4 18.59l7.72-7.72 1.47 1.35L5.41 20z\"/>\n",
              "  </svg>\n",
              "      </button>\n",
              "      \n",
              "  <style>\n",
              "    .colab-df-container {\n",
              "      display:flex;\n",
              "      flex-wrap:wrap;\n",
              "      gap: 12px;\n",
              "    }\n",
              "\n",
              "    .colab-df-convert {\n",
              "      background-color: #E8F0FE;\n",
              "      border: none;\n",
              "      border-radius: 50%;\n",
              "      cursor: pointer;\n",
              "      display: none;\n",
              "      fill: #1967D2;\n",
              "      height: 32px;\n",
              "      padding: 0 0 0 0;\n",
              "      width: 32px;\n",
              "    }\n",
              "\n",
              "    .colab-df-convert:hover {\n",
              "      background-color: #E2EBFA;\n",
              "      box-shadow: 0px 1px 2px rgba(60, 64, 67, 0.3), 0px 1px 3px 1px rgba(60, 64, 67, 0.15);\n",
              "      fill: #174EA6;\n",
              "    }\n",
              "\n",
              "    [theme=dark] .colab-df-convert {\n",
              "      background-color: #3B4455;\n",
              "      fill: #D2E3FC;\n",
              "    }\n",
              "\n",
              "    [theme=dark] .colab-df-convert:hover {\n",
              "      background-color: #434B5C;\n",
              "      box-shadow: 0px 1px 3px 1px rgba(0, 0, 0, 0.15);\n",
              "      filter: drop-shadow(0px 1px 2px rgba(0, 0, 0, 0.3));\n",
              "      fill: #FFFFFF;\n",
              "    }\n",
              "  </style>\n",
              "\n",
              "      <script>\n",
              "        const buttonEl =\n",
              "          document.querySelector('#df-85129b77-7581-4e80-8036-4014052f0132 button.colab-df-convert');\n",
              "        buttonEl.style.display =\n",
              "          google.colab.kernel.accessAllowed ? 'block' : 'none';\n",
              "\n",
              "        async function convertToInteractive(key) {\n",
              "          const element = document.querySelector('#df-85129b77-7581-4e80-8036-4014052f0132');\n",
              "          const dataTable =\n",
              "            await google.colab.kernel.invokeFunction('convertToInteractive',\n",
              "                                                     [key], {});\n",
              "          if (!dataTable) return;\n",
              "\n",
              "          const docLinkHtml = 'Like what you see? Visit the ' +\n",
              "            '<a target=\"_blank\" href=https://colab.research.google.com/notebooks/data_table.ipynb>data table notebook</a>'\n",
              "            + ' to learn more about interactive tables.';\n",
              "          element.innerHTML = '';\n",
              "          dataTable['output_type'] = 'display_data';\n",
              "          await google.colab.output.renderOutput(dataTable, element);\n",
              "          const docLink = document.createElement('div');\n",
              "          docLink.innerHTML = docLinkHtml;\n",
              "          element.appendChild(docLink);\n",
              "        }\n",
              "      </script>\n",
              "    </div>\n",
              "  </div>\n",
              "  "
            ]
          },
          "metadata": {},
          "execution_count": 293
        }
      ]
    },
    {
      "cell_type": "code",
      "source": [
        "df = df.rename(columns= {'associate\\'s degree' : 'parent\\'s associate degree',\n",
        "                         'bachelor\\'s degree' : 'parent\\'s bachelor degree',\n",
        "                         'high school' : 'parent\\'s high school',\n",
        "                         'master\\'s degree' : 'parent\\'s master degree',\n",
        "                         'some college' : 'parent\\'s some college',\n",
        "                         'some high school' : 'parent\\'s some high school',\n",
        "                         'free/reduced' : 'lunch free/reduced',\n",
        "                         'standard' : 'lunch standard',\n",
        "                         'completed' : 'test prepration completed',\n",
        "                         'none' : 'test preparation none'})"
      ],
      "metadata": {
        "id": "K0Rx4c8kbctE"
      },
      "execution_count": 294,
      "outputs": []
    },
    {
      "cell_type": "code",
      "source": [
        "order = ['male',\n",
        "         'female',\n",
        "         'parent\\'s associate degree',\n",
        "         'parent\\'s bachelor degree',\n",
        "         'parent\\'s high school',\n",
        "         'parent\\'s master degree',\n",
        "         'parent\\'s some college',\n",
        "         'parent\\'s some high school',\n",
        "         'lunch free/reduced',\n",
        "         'lunch standard',\n",
        "         'test prepration completed',\n",
        "         'test preparation none',\n",
        "         'math score',\n",
        "         'reading score',\n",
        "         'writing score']"
      ],
      "metadata": {
        "id": "ZWFFOg0zfP1t"
      },
      "execution_count": 295,
      "outputs": []
    },
    {
      "cell_type": "code",
      "source": [
        "df = df.reindex(columns=order)"
      ],
      "metadata": {
        "id": "Jt6iomzaf__I"
      },
      "execution_count": 296,
      "outputs": []
    },
    {
      "cell_type": "code",
      "source": [
        "df['average score'] = (df['math score'] + df['reading score'] + df['writing score'])/3"
      ],
      "metadata": {
        "id": "tXOrg-tJgIUZ"
      },
      "execution_count": 297,
      "outputs": []
    },
    {
      "cell_type": "code",
      "source": [
        "df['average score'] = df['average score'].astype(int)"
      ],
      "metadata": {
        "id": "tCXPhtdKgV5s"
      },
      "execution_count": 298,
      "outputs": []
    },
    {
      "cell_type": "code",
      "source": [
        "X = df.drop(df.columns[[15]], axis=1)"
      ],
      "metadata": {
        "id": "F_e3QF_o2dGd"
      },
      "execution_count": 299,
      "outputs": []
    },
    {
      "cell_type": "code",
      "source": [
        "y = df['average score'].values.reshape(-1,1)"
      ],
      "metadata": {
        "id": "YrS9H7Ri3bHI"
      },
      "execution_count": 300,
      "outputs": []
    },
    {
      "cell_type": "code",
      "source": [
        "scaler = MinMaxScaler()"
      ],
      "metadata": {
        "id": "uDIRxqJ14a9K"
      },
      "execution_count": 301,
      "outputs": []
    },
    {
      "cell_type": "code",
      "source": [
        "X = scaler.fit_transform(X)\n",
        "X = pd.DataFrame(X, columns=order)"
      ],
      "metadata": {
        "id": "ctbOjOJj4iWd"
      },
      "execution_count": 302,
      "outputs": []
    },
    {
      "cell_type": "code",
      "source": [
        "y = scaler.fit_transform(y)\n",
        "y = pd.DataFrame(y, columns=['Average Score'])"
      ],
      "metadata": {
        "id": "j6OiQQ7w4meC"
      },
      "execution_count": 303,
      "outputs": []
    },
    {
      "cell_type": "code",
      "source": [
        "X_train, X_test, y_train, y_test = train_test_split(X, y, test_size=0.1, shuffle=True)"
      ],
      "metadata": {
        "id": "vLcadld-85T9"
      },
      "execution_count": 304,
      "outputs": []
    },
    {
      "cell_type": "code",
      "source": [
        "def build_model():\n",
        "  model = tf.keras.models.Sequential([\n",
        "      tf.keras.layers.Input(shape=(15)),\n",
        "      tf.keras.layers.Dense(32, activation='relu'),\n",
        "      tf.keras.layers.Dense(16, activation='relu'),\n",
        "      tf.keras.layers.Dense(32, activation='relu'),\n",
        "      tf.keras.layers.Dense(1, activation='sigmoid')\n",
        "  ])\n",
        "  optimizer = tf.keras.optimizers.Adam(learning_rate=0.001)\n",
        "  model.compile(loss='mae',\n",
        "                optimizer = optimizer,\n",
        "                metrics=['mse'])\n",
        "  return model"
      ],
      "metadata": {
        "id": "OUXslcrs4wJQ"
      },
      "execution_count": 305,
      "outputs": []
    },
    {
      "cell_type": "code",
      "source": [
        "model = build_model()\n",
        "model.summary()"
      ],
      "metadata": {
        "colab": {
          "base_uri": "https://localhost:8080/"
        },
        "id": "QRmzubwm6z-O",
        "outputId": "1eb71d1d-989c-4546-ce5d-6c32d632cbb3"
      },
      "execution_count": 306,
      "outputs": [
        {
          "output_type": "stream",
          "name": "stdout",
          "text": [
            "Model: \"sequential_2\"\n",
            "_________________________________________________________________\n",
            " Layer (type)                Output Shape              Param #   \n",
            "=================================================================\n",
            " dense_8 (Dense)             (None, 32)                512       \n",
            "                                                                 \n",
            " dense_9 (Dense)             (None, 16)                528       \n",
            "                                                                 \n",
            " dense_10 (Dense)            (None, 32)                544       \n",
            "                                                                 \n",
            " dense_11 (Dense)            (None, 1)                 33        \n",
            "                                                                 \n",
            "=================================================================\n",
            "Total params: 1,617\n",
            "Trainable params: 1,617\n",
            "Non-trainable params: 0\n",
            "_________________________________________________________________\n"
          ]
        }
      ]
    },
    {
      "cell_type": "code",
      "source": [
        "history = model.fit(X_train, y_train, epochs=200, batch_size=100, shuffle=True, validation_split=0.1)"
      ],
      "metadata": {
        "colab": {
          "base_uri": "https://localhost:8080/"
        },
        "id": "vh9yTM7c68k4",
        "outputId": "f3fd1585-4d49-4011-a887-58d8845543ac"
      },
      "execution_count": 307,
      "outputs": [
        {
          "output_type": "stream",
          "name": "stdout",
          "text": [
            "Epoch 1/200\n",
            "9/9 [==============================] - 1s 37ms/step - loss: 0.1367 - mse: 0.0281 - val_loss: 0.1196 - val_mse: 0.0222\n",
            "Epoch 2/200\n",
            "9/9 [==============================] - 0s 9ms/step - loss: 0.1197 - mse: 0.0219 - val_loss: 0.1095 - val_mse: 0.0209\n",
            "Epoch 3/200\n",
            "9/9 [==============================] - 0s 7ms/step - loss: 0.1123 - mse: 0.0197 - val_loss: 0.1087 - val_mse: 0.0203\n",
            "Epoch 4/200\n",
            "9/9 [==============================] - 0s 6ms/step - loss: 0.1083 - mse: 0.0183 - val_loss: 0.1035 - val_mse: 0.0178\n",
            "Epoch 5/200\n",
            "9/9 [==============================] - 0s 7ms/step - loss: 0.1024 - mse: 0.0162 - val_loss: 0.0975 - val_mse: 0.0155\n",
            "Epoch 6/200\n",
            "9/9 [==============================] - 0s 9ms/step - loss: 0.0972 - mse: 0.0145 - val_loss: 0.0947 - val_mse: 0.0142\n",
            "Epoch 7/200\n",
            "9/9 [==============================] - 0s 9ms/step - loss: 0.0932 - mse: 0.0132 - val_loss: 0.0913 - val_mse: 0.0128\n",
            "Epoch 8/200\n",
            "9/9 [==============================] - 0s 6ms/step - loss: 0.0872 - mse: 0.0116 - val_loss: 0.0861 - val_mse: 0.0112\n",
            "Epoch 9/200\n",
            "9/9 [==============================] - 0s 6ms/step - loss: 0.0818 - mse: 0.0102 - val_loss: 0.0821 - val_mse: 0.0099\n",
            "Epoch 10/200\n",
            "9/9 [==============================] - 0s 6ms/step - loss: 0.0751 - mse: 0.0086 - val_loss: 0.0717 - val_mse: 0.0076\n",
            "Epoch 11/200\n",
            "9/9 [==============================] - 0s 6ms/step - loss: 0.0651 - mse: 0.0065 - val_loss: 0.0603 - val_mse: 0.0056\n",
            "Epoch 12/200\n",
            "9/9 [==============================] - 0s 9ms/step - loss: 0.0551 - mse: 0.0048 - val_loss: 0.0486 - val_mse: 0.0039\n",
            "Epoch 13/200\n",
            "9/9 [==============================] - 0s 6ms/step - loss: 0.0436 - mse: 0.0032 - val_loss: 0.0384 - val_mse: 0.0025\n",
            "Epoch 14/200\n",
            "9/9 [==============================] - 0s 6ms/step - loss: 0.0314 - mse: 0.0018 - val_loss: 0.0256 - val_mse: 0.0012\n",
            "Epoch 15/200\n",
            "9/9 [==============================] - 0s 8ms/step - loss: 0.0242 - mse: 0.0011 - val_loss: 0.0305 - val_mse: 0.0015\n",
            "Epoch 16/200\n",
            "9/9 [==============================] - 0s 7ms/step - loss: 0.0220 - mse: 8.6033e-04 - val_loss: 0.0196 - val_mse: 8.0085e-04\n",
            "Epoch 17/200\n",
            "9/9 [==============================] - 0s 7ms/step - loss: 0.0189 - mse: 7.1054e-04 - val_loss: 0.0187 - val_mse: 7.6798e-04\n",
            "Epoch 18/200\n",
            "9/9 [==============================] - 0s 7ms/step - loss: 0.0174 - mse: 6.3870e-04 - val_loss: 0.0173 - val_mse: 6.5652e-04\n",
            "Epoch 19/200\n",
            "9/9 [==============================] - 0s 7ms/step - loss: 0.0162 - mse: 5.6242e-04 - val_loss: 0.0174 - val_mse: 6.5844e-04\n",
            "Epoch 20/200\n",
            "9/9 [==============================] - 0s 9ms/step - loss: 0.0170 - mse: 6.0024e-04 - val_loss: 0.0157 - val_mse: 6.0819e-04\n",
            "Epoch 21/200\n",
            "9/9 [==============================] - 0s 7ms/step - loss: 0.0146 - mse: 4.9722e-04 - val_loss: 0.0152 - val_mse: 5.6844e-04\n",
            "Epoch 22/200\n",
            "9/9 [==============================] - 0s 6ms/step - loss: 0.0164 - mse: 5.6872e-04 - val_loss: 0.0167 - val_mse: 6.6068e-04\n",
            "Epoch 23/200\n",
            "9/9 [==============================] - 0s 8ms/step - loss: 0.0146 - mse: 5.0006e-04 - val_loss: 0.0147 - val_mse: 5.3050e-04\n",
            "Epoch 24/200\n",
            "9/9 [==============================] - 0s 8ms/step - loss: 0.0148 - mse: 4.7310e-04 - val_loss: 0.0162 - val_mse: 5.7728e-04\n",
            "Epoch 25/200\n",
            "9/9 [==============================] - 0s 6ms/step - loss: 0.0143 - mse: 4.6956e-04 - val_loss: 0.0162 - val_mse: 5.7859e-04\n",
            "Epoch 26/200\n",
            "9/9 [==============================] - 0s 8ms/step - loss: 0.0140 - mse: 4.6137e-04 - val_loss: 0.0146 - val_mse: 5.5976e-04\n",
            "Epoch 27/200\n",
            "9/9 [==============================] - 0s 9ms/step - loss: 0.0136 - mse: 4.5455e-04 - val_loss: 0.0147 - val_mse: 5.2519e-04\n",
            "Epoch 28/200\n",
            "9/9 [==============================] - 0s 9ms/step - loss: 0.0136 - mse: 4.0683e-04 - val_loss: 0.0141 - val_mse: 5.1720e-04\n",
            "Epoch 29/200\n",
            "9/9 [==============================] - 0s 7ms/step - loss: 0.0133 - mse: 4.2970e-04 - val_loss: 0.0150 - val_mse: 5.3150e-04\n",
            "Epoch 30/200\n",
            "9/9 [==============================] - 0s 8ms/step - loss: 0.0135 - mse: 4.3380e-04 - val_loss: 0.0138 - val_mse: 5.0855e-04\n",
            "Epoch 31/200\n",
            "9/9 [==============================] - 0s 8ms/step - loss: 0.0125 - mse: 4.0751e-04 - val_loss: 0.0147 - val_mse: 5.1514e-04\n",
            "Epoch 32/200\n",
            "9/9 [==============================] - 0s 6ms/step - loss: 0.0125 - mse: 3.9033e-04 - val_loss: 0.0140 - val_mse: 4.9977e-04\n",
            "Epoch 33/200\n",
            "9/9 [==============================] - 0s 7ms/step - loss: 0.0125 - mse: 3.8335e-04 - val_loss: 0.0136 - val_mse: 4.7193e-04\n",
            "Epoch 34/200\n",
            "9/9 [==============================] - 0s 6ms/step - loss: 0.0123 - mse: 3.9031e-04 - val_loss: 0.0138 - val_mse: 5.1094e-04\n",
            "Epoch 35/200\n",
            "9/9 [==============================] - 0s 6ms/step - loss: 0.0123 - mse: 3.7854e-04 - val_loss: 0.0147 - val_mse: 5.0384e-04\n",
            "Epoch 36/200\n",
            "9/9 [==============================] - 0s 9ms/step - loss: 0.0127 - mse: 3.7407e-04 - val_loss: 0.0141 - val_mse: 4.8316e-04\n",
            "Epoch 37/200\n",
            "9/9 [==============================] - 0s 7ms/step - loss: 0.0120 - mse: 3.6414e-04 - val_loss: 0.0143 - val_mse: 4.8755e-04\n",
            "Epoch 38/200\n",
            "9/9 [==============================] - 0s 6ms/step - loss: 0.0121 - mse: 3.6226e-04 - val_loss: 0.0189 - val_mse: 6.5152e-04\n",
            "Epoch 39/200\n",
            "9/9 [==============================] - 0s 6ms/step - loss: 0.0152 - mse: 4.2377e-04 - val_loss: 0.0136 - val_mse: 4.1834e-04\n",
            "Epoch 40/200\n",
            "9/9 [==============================] - 0s 6ms/step - loss: 0.0132 - mse: 3.6595e-04 - val_loss: 0.0131 - val_mse: 4.4954e-04\n",
            "Epoch 41/200\n",
            "9/9 [==============================] - 0s 8ms/step - loss: 0.0125 - mse: 3.5993e-04 - val_loss: 0.0123 - val_mse: 4.3165e-04\n",
            "Epoch 42/200\n",
            "9/9 [==============================] - 0s 7ms/step - loss: 0.0115 - mse: 3.2712e-04 - val_loss: 0.0141 - val_mse: 4.7647e-04\n",
            "Epoch 43/200\n",
            "9/9 [==============================] - 0s 9ms/step - loss: 0.0115 - mse: 3.3545e-04 - val_loss: 0.0127 - val_mse: 4.2282e-04\n",
            "Epoch 44/200\n",
            "9/9 [==============================] - 0s 6ms/step - loss: 0.0106 - mse: 3.0146e-04 - val_loss: 0.0131 - val_mse: 4.3773e-04\n",
            "Epoch 45/200\n",
            "9/9 [==============================] - 0s 7ms/step - loss: 0.0111 - mse: 3.1488e-04 - val_loss: 0.0132 - val_mse: 4.4439e-04\n",
            "Epoch 46/200\n",
            "9/9 [==============================] - 0s 9ms/step - loss: 0.0108 - mse: 3.0869e-04 - val_loss: 0.0122 - val_mse: 4.0280e-04\n",
            "Epoch 47/200\n",
            "9/9 [==============================] - 0s 8ms/step - loss: 0.0104 - mse: 2.9130e-04 - val_loss: 0.0131 - val_mse: 4.2529e-04\n",
            "Epoch 48/200\n",
            "9/9 [==============================] - 0s 7ms/step - loss: 0.0105 - mse: 2.9526e-04 - val_loss: 0.0123 - val_mse: 4.1701e-04\n",
            "Epoch 49/200\n",
            "9/9 [==============================] - 0s 6ms/step - loss: 0.0106 - mse: 2.9676e-04 - val_loss: 0.0126 - val_mse: 4.0245e-04\n",
            "Epoch 50/200\n",
            "9/9 [==============================] - 0s 6ms/step - loss: 0.0108 - mse: 3.0653e-04 - val_loss: 0.0124 - val_mse: 4.1864e-04\n",
            "Epoch 51/200\n",
            "9/9 [==============================] - 0s 7ms/step - loss: 0.0101 - mse: 2.7825e-04 - val_loss: 0.0140 - val_mse: 4.3278e-04\n",
            "Epoch 52/200\n",
            "9/9 [==============================] - 0s 7ms/step - loss: 0.0108 - mse: 2.8001e-04 - val_loss: 0.0122 - val_mse: 3.8404e-04\n",
            "Epoch 53/200\n",
            "9/9 [==============================] - 0s 9ms/step - loss: 0.0103 - mse: 2.7724e-04 - val_loss: 0.0120 - val_mse: 3.8049e-04\n",
            "Epoch 54/200\n",
            "9/9 [==============================] - 0s 6ms/step - loss: 0.0098 - mse: 2.6927e-04 - val_loss: 0.0136 - val_mse: 4.1421e-04\n",
            "Epoch 55/200\n",
            "9/9 [==============================] - 0s 7ms/step - loss: 0.0111 - mse: 2.9267e-04 - val_loss: 0.0120 - val_mse: 3.6167e-04\n",
            "Epoch 56/200\n",
            "9/9 [==============================] - 0s 6ms/step - loss: 0.0098 - mse: 2.5265e-04 - val_loss: 0.0119 - val_mse: 3.7543e-04\n",
            "Epoch 57/200\n",
            "9/9 [==============================] - 0s 6ms/step - loss: 0.0098 - mse: 2.6436e-04 - val_loss: 0.0116 - val_mse: 3.6296e-04\n",
            "Epoch 58/200\n",
            "9/9 [==============================] - 0s 6ms/step - loss: 0.0097 - mse: 2.5066e-04 - val_loss: 0.0115 - val_mse: 3.5916e-04\n",
            "Epoch 59/200\n",
            "9/9 [==============================] - 0s 7ms/step - loss: 0.0097 - mse: 2.5825e-04 - val_loss: 0.0124 - val_mse: 3.6770e-04\n",
            "Epoch 60/200\n",
            "9/9 [==============================] - 0s 6ms/step - loss: 0.0103 - mse: 2.6397e-04 - val_loss: 0.0149 - val_mse: 4.5138e-04\n",
            "Epoch 61/200\n",
            "9/9 [==============================] - 0s 7ms/step - loss: 0.0111 - mse: 2.7466e-04 - val_loss: 0.0124 - val_mse: 3.5413e-04\n",
            "Epoch 62/200\n",
            "9/9 [==============================] - 0s 7ms/step - loss: 0.0104 - mse: 2.6504e-04 - val_loss: 0.0130 - val_mse: 4.1176e-04\n",
            "Epoch 63/200\n",
            "9/9 [==============================] - 0s 9ms/step - loss: 0.0103 - mse: 2.6604e-04 - val_loss: 0.0113 - val_mse: 3.3702e-04\n",
            "Epoch 64/200\n",
            "9/9 [==============================] - 0s 6ms/step - loss: 0.0096 - mse: 2.4428e-04 - val_loss: 0.0116 - val_mse: 3.6300e-04\n",
            "Epoch 65/200\n",
            "9/9 [==============================] - 0s 6ms/step - loss: 0.0092 - mse: 2.3981e-04 - val_loss: 0.0115 - val_mse: 3.4853e-04\n",
            "Epoch 66/200\n",
            "9/9 [==============================] - 0s 7ms/step - loss: 0.0093 - mse: 2.3323e-04 - val_loss: 0.0116 - val_mse: 3.5179e-04\n",
            "Epoch 67/200\n",
            "9/9 [==============================] - 0s 7ms/step - loss: 0.0097 - mse: 2.4237e-04 - val_loss: 0.0116 - val_mse: 3.5058e-04\n",
            "Epoch 68/200\n",
            "9/9 [==============================] - 0s 6ms/step - loss: 0.0093 - mse: 2.3803e-04 - val_loss: 0.0104 - val_mse: 3.1026e-04\n",
            "Epoch 69/200\n",
            "9/9 [==============================] - 0s 6ms/step - loss: 0.0088 - mse: 2.2136e-04 - val_loss: 0.0113 - val_mse: 3.3479e-04\n",
            "Epoch 70/200\n",
            "9/9 [==============================] - 0s 9ms/step - loss: 0.0093 - mse: 2.3608e-04 - val_loss: 0.0103 - val_mse: 3.1508e-04\n",
            "Epoch 71/200\n",
            "9/9 [==============================] - 0s 6ms/step - loss: 0.0090 - mse: 2.2433e-04 - val_loss: 0.0107 - val_mse: 3.2315e-04\n",
            "Epoch 72/200\n",
            "9/9 [==============================] - 0s 9ms/step - loss: 0.0097 - mse: 2.4582e-04 - val_loss: 0.0121 - val_mse: 3.6739e-04\n",
            "Epoch 73/200\n",
            "9/9 [==============================] - 0s 7ms/step - loss: 0.0095 - mse: 2.3571e-04 - val_loss: 0.0107 - val_mse: 3.2141e-04\n",
            "Epoch 74/200\n",
            "9/9 [==============================] - 0s 7ms/step - loss: 0.0097 - mse: 2.2769e-04 - val_loss: 0.0110 - val_mse: 3.1144e-04\n",
            "Epoch 75/200\n",
            "9/9 [==============================] - 0s 8ms/step - loss: 0.0087 - mse: 2.0715e-04 - val_loss: 0.0108 - val_mse: 3.2445e-04\n",
            "Epoch 76/200\n",
            "9/9 [==============================] - 0s 8ms/step - loss: 0.0088 - mse: 2.1855e-04 - val_loss: 0.0135 - val_mse: 3.9263e-04\n",
            "Epoch 77/200\n",
            "9/9 [==============================] - 0s 6ms/step - loss: 0.0094 - mse: 2.2110e-04 - val_loss: 0.0105 - val_mse: 2.8676e-04\n",
            "Epoch 78/200\n",
            "9/9 [==============================] - 0s 6ms/step - loss: 0.0087 - mse: 2.0595e-04 - val_loss: 0.0100 - val_mse: 2.9775e-04\n",
            "Epoch 79/200\n",
            "9/9 [==============================] - 0s 6ms/step - loss: 0.0082 - mse: 1.9532e-04 - val_loss: 0.0104 - val_mse: 2.8059e-04\n",
            "Epoch 80/200\n",
            "9/9 [==============================] - 0s 9ms/step - loss: 0.0084 - mse: 1.9231e-04 - val_loss: 0.0103 - val_mse: 3.0460e-04\n",
            "Epoch 81/200\n",
            "9/9 [==============================] - 0s 9ms/step - loss: 0.0090 - mse: 2.0643e-04 - val_loss: 0.0115 - val_mse: 3.2095e-04\n",
            "Epoch 82/200\n",
            "9/9 [==============================] - 0s 6ms/step - loss: 0.0087 - mse: 2.0073e-04 - val_loss: 0.0100 - val_mse: 3.0026e-04\n",
            "Epoch 83/200\n",
            "9/9 [==============================] - 0s 6ms/step - loss: 0.0083 - mse: 1.8855e-04 - val_loss: 0.0103 - val_mse: 2.8770e-04\n",
            "Epoch 84/200\n",
            "9/9 [==============================] - 0s 6ms/step - loss: 0.0084 - mse: 1.9279e-04 - val_loss: 0.0101 - val_mse: 2.6515e-04\n",
            "Epoch 85/200\n",
            "9/9 [==============================] - 0s 6ms/step - loss: 0.0084 - mse: 1.8653e-04 - val_loss: 0.0112 - val_mse: 3.1479e-04\n",
            "Epoch 86/200\n",
            "9/9 [==============================] - 0s 6ms/step - loss: 0.0086 - mse: 2.0423e-04 - val_loss: 0.0105 - val_mse: 2.7809e-04\n",
            "Epoch 87/200\n",
            "9/9 [==============================] - 0s 6ms/step - loss: 0.0089 - mse: 1.9107e-04 - val_loss: 0.0107 - val_mse: 3.0717e-04\n",
            "Epoch 88/200\n",
            "9/9 [==============================] - 0s 6ms/step - loss: 0.0085 - mse: 1.9549e-04 - val_loss: 0.0112 - val_mse: 2.9250e-04\n",
            "Epoch 89/200\n",
            "9/9 [==============================] - 0s 9ms/step - loss: 0.0084 - mse: 1.8287e-04 - val_loss: 0.0097 - val_mse: 2.7152e-04\n",
            "Epoch 90/200\n",
            "9/9 [==============================] - 0s 6ms/step - loss: 0.0080 - mse: 1.7378e-04 - val_loss: 0.0099 - val_mse: 2.6092e-04\n",
            "Epoch 91/200\n",
            "9/9 [==============================] - 0s 6ms/step - loss: 0.0080 - mse: 1.7578e-04 - val_loss: 0.0102 - val_mse: 2.7350e-04\n",
            "Epoch 92/200\n",
            "9/9 [==============================] - 0s 6ms/step - loss: 0.0079 - mse: 1.7358e-04 - val_loss: 0.0096 - val_mse: 2.6475e-04\n",
            "Epoch 93/200\n",
            "9/9 [==============================] - 0s 7ms/step - loss: 0.0077 - mse: 1.6877e-04 - val_loss: 0.0118 - val_mse: 3.0748e-04\n",
            "Epoch 94/200\n",
            "9/9 [==============================] - 0s 6ms/step - loss: 0.0087 - mse: 1.8553e-04 - val_loss: 0.0140 - val_mse: 3.3491e-04\n",
            "Epoch 95/200\n",
            "9/9 [==============================] - 0s 6ms/step - loss: 0.0105 - mse: 2.1860e-04 - val_loss: 0.0151 - val_mse: 3.9447e-04\n",
            "Epoch 96/200\n",
            "9/9 [==============================] - 0s 9ms/step - loss: 0.0103 - mse: 2.1112e-04 - val_loss: 0.0105 - val_mse: 2.6417e-04\n",
            "Epoch 97/200\n",
            "9/9 [==============================] - 0s 6ms/step - loss: 0.0081 - mse: 1.7340e-04 - val_loss: 0.0100 - val_mse: 2.6794e-04\n",
            "Epoch 98/200\n",
            "9/9 [==============================] - 0s 6ms/step - loss: 0.0076 - mse: 1.6636e-04 - val_loss: 0.0101 - val_mse: 2.4647e-04\n",
            "Epoch 99/200\n",
            "9/9 [==============================] - 0s 6ms/step - loss: 0.0076 - mse: 1.6111e-04 - val_loss: 0.0104 - val_mse: 2.7597e-04\n",
            "Epoch 100/200\n",
            "9/9 [==============================] - 0s 6ms/step - loss: 0.0082 - mse: 1.7453e-04 - val_loss: 0.0098 - val_mse: 2.4742e-04\n",
            "Epoch 101/200\n",
            "9/9 [==============================] - 0s 9ms/step - loss: 0.0082 - mse: 1.6869e-04 - val_loss: 0.0091 - val_mse: 2.4206e-04\n",
            "Epoch 102/200\n",
            "9/9 [==============================] - 0s 7ms/step - loss: 0.0079 - mse: 1.6457e-04 - val_loss: 0.0093 - val_mse: 2.3902e-04\n",
            "Epoch 103/200\n",
            "9/9 [==============================] - 0s 6ms/step - loss: 0.0076 - mse: 1.5700e-04 - val_loss: 0.0088 - val_mse: 2.2695e-04\n",
            "Epoch 104/200\n",
            "9/9 [==============================] - 0s 8ms/step - loss: 0.0067 - mse: 1.4396e-04 - val_loss: 0.0091 - val_mse: 2.3074e-04\n",
            "Epoch 105/200\n",
            "9/9 [==============================] - 0s 9ms/step - loss: 0.0070 - mse: 1.5115e-04 - val_loss: 0.0088 - val_mse: 2.3053e-04\n",
            "Epoch 106/200\n",
            "9/9 [==============================] - 0s 6ms/step - loss: 0.0068 - mse: 1.4534e-04 - val_loss: 0.0089 - val_mse: 2.2871e-04\n",
            "Epoch 107/200\n",
            "9/9 [==============================] - 0s 8ms/step - loss: 0.0069 - mse: 1.4908e-04 - val_loss: 0.0087 - val_mse: 2.2225e-04\n",
            "Epoch 108/200\n",
            "9/9 [==============================] - 0s 6ms/step - loss: 0.0068 - mse: 1.4331e-04 - val_loss: 0.0098 - val_mse: 2.3778e-04\n",
            "Epoch 109/200\n",
            "9/9 [==============================] - 0s 6ms/step - loss: 0.0074 - mse: 1.5094e-04 - val_loss: 0.0087 - val_mse: 2.2391e-04\n",
            "Epoch 110/200\n",
            "9/9 [==============================] - 0s 7ms/step - loss: 0.0067 - mse: 1.3915e-04 - val_loss: 0.0085 - val_mse: 2.2003e-04\n",
            "Epoch 111/200\n",
            "9/9 [==============================] - 0s 9ms/step - loss: 0.0067 - mse: 1.4244e-04 - val_loss: 0.0088 - val_mse: 2.2746e-04\n",
            "Epoch 112/200\n",
            "9/9 [==============================] - 0s 7ms/step - loss: 0.0071 - mse: 1.4439e-04 - val_loss: 0.0085 - val_mse: 2.1687e-04\n",
            "Epoch 113/200\n",
            "9/9 [==============================] - 0s 8ms/step - loss: 0.0068 - mse: 1.3987e-04 - val_loss: 0.0085 - val_mse: 2.2161e-04\n",
            "Epoch 114/200\n",
            "9/9 [==============================] - 0s 7ms/step - loss: 0.0064 - mse: 1.3296e-04 - val_loss: 0.0086 - val_mse: 2.0820e-04\n",
            "Epoch 115/200\n",
            "9/9 [==============================] - 0s 9ms/step - loss: 0.0066 - mse: 1.3245e-04 - val_loss: 0.0108 - val_mse: 2.6442e-04\n",
            "Epoch 116/200\n",
            "9/9 [==============================] - 0s 6ms/step - loss: 0.0080 - mse: 1.5493e-04 - val_loss: 0.0087 - val_mse: 1.9631e-04\n",
            "Epoch 117/200\n",
            "9/9 [==============================] - 0s 7ms/step - loss: 0.0075 - mse: 1.4354e-04 - val_loss: 0.0088 - val_mse: 2.1649e-04\n",
            "Epoch 118/200\n",
            "9/9 [==============================] - 0s 6ms/step - loss: 0.0065 - mse: 1.3255e-04 - val_loss: 0.0082 - val_mse: 2.0196e-04\n",
            "Epoch 119/200\n",
            "9/9 [==============================] - 0s 6ms/step - loss: 0.0065 - mse: 1.3325e-04 - val_loss: 0.0080 - val_mse: 2.0339e-04\n",
            "Epoch 120/200\n",
            "9/9 [==============================] - 0s 6ms/step - loss: 0.0063 - mse: 1.2656e-04 - val_loss: 0.0083 - val_mse: 1.9836e-04\n",
            "Epoch 121/200\n",
            "9/9 [==============================] - 0s 6ms/step - loss: 0.0063 - mse: 1.2487e-04 - val_loss: 0.0087 - val_mse: 2.1115e-04\n",
            "Epoch 122/200\n",
            "9/9 [==============================] - 0s 6ms/step - loss: 0.0065 - mse: 1.2736e-04 - val_loss: 0.0083 - val_mse: 1.9240e-04\n",
            "Epoch 123/200\n",
            "9/9 [==============================] - 0s 6ms/step - loss: 0.0063 - mse: 1.2256e-04 - val_loss: 0.0083 - val_mse: 1.9328e-04\n",
            "Epoch 124/200\n",
            "9/9 [==============================] - 0s 8ms/step - loss: 0.0069 - mse: 1.3059e-04 - val_loss: 0.0085 - val_mse: 1.8993e-04\n",
            "Epoch 125/200\n",
            "9/9 [==============================] - 0s 6ms/step - loss: 0.0063 - mse: 1.2531e-04 - val_loss: 0.0093 - val_mse: 2.0761e-04\n",
            "Epoch 126/200\n",
            "9/9 [==============================] - 0s 8ms/step - loss: 0.0076 - mse: 1.4164e-04 - val_loss: 0.0085 - val_mse: 1.9724e-04\n",
            "Epoch 127/200\n",
            "9/9 [==============================] - 0s 6ms/step - loss: 0.0070 - mse: 1.3716e-04 - val_loss: 0.0084 - val_mse: 2.1172e-04\n",
            "Epoch 128/200\n",
            "9/9 [==============================] - 0s 6ms/step - loss: 0.0063 - mse: 1.2145e-04 - val_loss: 0.0081 - val_mse: 1.7317e-04\n",
            "Epoch 129/200\n",
            "9/9 [==============================] - 0s 6ms/step - loss: 0.0066 - mse: 1.2370e-04 - val_loss: 0.0076 - val_mse: 1.7428e-04\n",
            "Epoch 130/200\n",
            "9/9 [==============================] - 0s 6ms/step - loss: 0.0065 - mse: 1.2838e-04 - val_loss: 0.0076 - val_mse: 1.8639e-04\n",
            "Epoch 131/200\n",
            "9/9 [==============================] - 0s 7ms/step - loss: 0.0058 - mse: 1.1658e-04 - val_loss: 0.0078 - val_mse: 1.6894e-04\n",
            "Epoch 132/200\n",
            "9/9 [==============================] - 0s 6ms/step - loss: 0.0064 - mse: 1.1878e-04 - val_loss: 0.0088 - val_mse: 1.9861e-04\n",
            "Epoch 133/200\n",
            "9/9 [==============================] - 0s 7ms/step - loss: 0.0062 - mse: 1.1532e-04 - val_loss: 0.0087 - val_mse: 1.8873e-04\n",
            "Epoch 134/200\n",
            "9/9 [==============================] - 0s 8ms/step - loss: 0.0063 - mse: 1.2141e-04 - val_loss: 0.0077 - val_mse: 1.7263e-04\n",
            "Epoch 135/200\n",
            "9/9 [==============================] - 0s 8ms/step - loss: 0.0061 - mse: 1.1001e-04 - val_loss: 0.0097 - val_mse: 1.9740e-04\n",
            "Epoch 136/200\n",
            "9/9 [==============================] - 0s 11ms/step - loss: 0.0067 - mse: 1.2297e-04 - val_loss: 0.0112 - val_mse: 2.2731e-04\n",
            "Epoch 137/200\n",
            "9/9 [==============================] - 0s 9ms/step - loss: 0.0081 - mse: 1.4077e-04 - val_loss: 0.0122 - val_mse: 2.6203e-04\n",
            "Epoch 138/200\n",
            "9/9 [==============================] - 0s 10ms/step - loss: 0.0077 - mse: 1.3697e-04 - val_loss: 0.0077 - val_mse: 1.6804e-04\n",
            "Epoch 139/200\n",
            "9/9 [==============================] - 0s 8ms/step - loss: 0.0069 - mse: 1.2512e-04 - val_loss: 0.0073 - val_mse: 1.6265e-04\n",
            "Epoch 140/200\n",
            "9/9 [==============================] - 0s 12ms/step - loss: 0.0059 - mse: 1.0687e-04 - val_loss: 0.0076 - val_mse: 1.7014e-04\n",
            "Epoch 141/200\n",
            "9/9 [==============================] - 0s 9ms/step - loss: 0.0059 - mse: 1.0647e-04 - val_loss: 0.0088 - val_mse: 1.7626e-04\n",
            "Epoch 142/200\n",
            "9/9 [==============================] - 0s 8ms/step - loss: 0.0063 - mse: 1.1285e-04 - val_loss: 0.0075 - val_mse: 1.6938e-04\n",
            "Epoch 143/200\n",
            "9/9 [==============================] - 0s 8ms/step - loss: 0.0060 - mse: 1.0921e-04 - val_loss: 0.0092 - val_mse: 1.8530e-04\n",
            "Epoch 144/200\n",
            "9/9 [==============================] - 0s 8ms/step - loss: 0.0068 - mse: 1.1831e-04 - val_loss: 0.0073 - val_mse: 1.5538e-04\n",
            "Epoch 145/200\n",
            "9/9 [==============================] - 0s 8ms/step - loss: 0.0062 - mse: 1.1203e-04 - val_loss: 0.0073 - val_mse: 1.6358e-04\n",
            "Epoch 146/200\n",
            "9/9 [==============================] - 0s 9ms/step - loss: 0.0059 - mse: 1.0697e-04 - val_loss: 0.0099 - val_mse: 2.0372e-04\n",
            "Epoch 147/200\n",
            "9/9 [==============================] - 0s 10ms/step - loss: 0.0070 - mse: 1.1603e-04 - val_loss: 0.0083 - val_mse: 1.6782e-04\n",
            "Epoch 148/200\n",
            "9/9 [==============================] - 0s 9ms/step - loss: 0.0072 - mse: 1.2275e-04 - val_loss: 0.0076 - val_mse: 1.4688e-04\n",
            "Epoch 149/200\n",
            "9/9 [==============================] - 0s 11ms/step - loss: 0.0058 - mse: 1.0241e-04 - val_loss: 0.0071 - val_mse: 1.5282e-04\n",
            "Epoch 150/200\n",
            "9/9 [==============================] - 0s 11ms/step - loss: 0.0054 - mse: 9.5866e-05 - val_loss: 0.0073 - val_mse: 1.4997e-04\n",
            "Epoch 151/200\n",
            "9/9 [==============================] - 0s 12ms/step - loss: 0.0061 - mse: 1.0207e-04 - val_loss: 0.0073 - val_mse: 1.5807e-04\n",
            "Epoch 152/200\n",
            "9/9 [==============================] - 0s 8ms/step - loss: 0.0061 - mse: 1.0671e-04 - val_loss: 0.0096 - val_mse: 1.8032e-04\n",
            "Epoch 153/200\n",
            "9/9 [==============================] - 0s 10ms/step - loss: 0.0071 - mse: 1.1798e-04 - val_loss: 0.0101 - val_mse: 2.0025e-04\n",
            "Epoch 154/200\n",
            "9/9 [==============================] - 0s 9ms/step - loss: 0.0070 - mse: 1.1218e-04 - val_loss: 0.0074 - val_mse: 1.4903e-04\n",
            "Epoch 155/200\n",
            "9/9 [==============================] - 0s 8ms/step - loss: 0.0071 - mse: 1.1459e-04 - val_loss: 0.0085 - val_mse: 1.6453e-04\n",
            "Epoch 156/200\n",
            "9/9 [==============================] - 0s 8ms/step - loss: 0.0066 - mse: 1.1297e-04 - val_loss: 0.0071 - val_mse: 1.3618e-04\n",
            "Epoch 157/200\n",
            "9/9 [==============================] - 0s 8ms/step - loss: 0.0059 - mse: 9.9352e-05 - val_loss: 0.0105 - val_mse: 2.1600e-04\n",
            "Epoch 158/200\n",
            "9/9 [==============================] - 0s 11ms/step - loss: 0.0068 - mse: 1.1275e-04 - val_loss: 0.0079 - val_mse: 1.6244e-04\n",
            "Epoch 159/200\n",
            "9/9 [==============================] - 0s 11ms/step - loss: 0.0066 - mse: 1.0882e-04 - val_loss: 0.0085 - val_mse: 1.7063e-04\n",
            "Epoch 160/200\n",
            "9/9 [==============================] - 0s 8ms/step - loss: 0.0061 - mse: 1.0254e-04 - val_loss: 0.0070 - val_mse: 1.3065e-04\n",
            "Epoch 161/200\n",
            "9/9 [==============================] - 0s 9ms/step - loss: 0.0060 - mse: 9.8884e-05 - val_loss: 0.0080 - val_mse: 1.5613e-04\n",
            "Epoch 162/200\n",
            "9/9 [==============================] - 0s 9ms/step - loss: 0.0058 - mse: 9.8071e-05 - val_loss: 0.0072 - val_mse: 1.3554e-04\n",
            "Epoch 163/200\n",
            "9/9 [==============================] - 0s 12ms/step - loss: 0.0055 - mse: 9.4049e-05 - val_loss: 0.0070 - val_mse: 1.3270e-04\n",
            "Epoch 164/200\n",
            "9/9 [==============================] - 0s 9ms/step - loss: 0.0057 - mse: 9.6576e-05 - val_loss: 0.0081 - val_mse: 1.6140e-04\n",
            "Epoch 165/200\n",
            "9/9 [==============================] - 0s 8ms/step - loss: 0.0063 - mse: 1.0234e-04 - val_loss: 0.0070 - val_mse: 1.3137e-04\n",
            "Epoch 166/200\n",
            "9/9 [==============================] - 0s 12ms/step - loss: 0.0055 - mse: 9.1724e-05 - val_loss: 0.0068 - val_mse: 1.3458e-04\n",
            "Epoch 167/200\n",
            "9/9 [==============================] - 0s 11ms/step - loss: 0.0061 - mse: 1.0184e-04 - val_loss: 0.0078 - val_mse: 1.4397e-04\n",
            "Epoch 168/200\n",
            "9/9 [==============================] - 0s 12ms/step - loss: 0.0062 - mse: 1.0204e-04 - val_loss: 0.0079 - val_mse: 1.3252e-04\n",
            "Epoch 169/200\n",
            "9/9 [==============================] - 0s 8ms/step - loss: 0.0062 - mse: 1.0016e-04 - val_loss: 0.0081 - val_mse: 1.5514e-04\n",
            "Epoch 170/200\n",
            "9/9 [==============================] - 0s 7ms/step - loss: 0.0058 - mse: 9.2138e-05 - val_loss: 0.0068 - val_mse: 1.2370e-04\n",
            "Epoch 171/200\n",
            "9/9 [==============================] - 0s 6ms/step - loss: 0.0051 - mse: 8.2228e-05 - val_loss: 0.0071 - val_mse: 1.3491e-04\n",
            "Epoch 172/200\n",
            "9/9 [==============================] - 0s 6ms/step - loss: 0.0053 - mse: 8.6983e-05 - val_loss: 0.0066 - val_mse: 1.2526e-04\n",
            "Epoch 173/200\n",
            "9/9 [==============================] - 0s 7ms/step - loss: 0.0054 - mse: 8.9311e-05 - val_loss: 0.0078 - val_mse: 1.3423e-04\n",
            "Epoch 174/200\n",
            "9/9 [==============================] - 0s 9ms/step - loss: 0.0060 - mse: 9.4543e-05 - val_loss: 0.0068 - val_mse: 1.1915e-04\n",
            "Epoch 175/200\n",
            "9/9 [==============================] - 0s 6ms/step - loss: 0.0054 - mse: 8.8894e-05 - val_loss: 0.0079 - val_mse: 1.5036e-04\n",
            "Epoch 176/200\n",
            "9/9 [==============================] - 0s 9ms/step - loss: 0.0060 - mse: 9.6012e-05 - val_loss: 0.0072 - val_mse: 1.3815e-04\n",
            "Epoch 177/200\n",
            "9/9 [==============================] - 0s 8ms/step - loss: 0.0061 - mse: 9.7927e-05 - val_loss: 0.0063 - val_mse: 1.1678e-04\n",
            "Epoch 178/200\n",
            "9/9 [==============================] - 0s 9ms/step - loss: 0.0051 - mse: 8.5003e-05 - val_loss: 0.0069 - val_mse: 1.2508e-04\n",
            "Epoch 179/200\n",
            "9/9 [==============================] - 0s 6ms/step - loss: 0.0050 - mse: 8.3714e-05 - val_loss: 0.0064 - val_mse: 1.1590e-04\n",
            "Epoch 180/200\n",
            "9/9 [==============================] - 0s 9ms/step - loss: 0.0050 - mse: 8.2545e-05 - val_loss: 0.0067 - val_mse: 1.2663e-04\n",
            "Epoch 181/200\n",
            "9/9 [==============================] - 0s 9ms/step - loss: 0.0051 - mse: 8.5002e-05 - val_loss: 0.0065 - val_mse: 1.1509e-04\n",
            "Epoch 182/200\n",
            "9/9 [==============================] - 0s 7ms/step - loss: 0.0049 - mse: 7.9757e-05 - val_loss: 0.0065 - val_mse: 1.1583e-04\n",
            "Epoch 183/200\n",
            "9/9 [==============================] - 0s 7ms/step - loss: 0.0051 - mse: 8.3409e-05 - val_loss: 0.0066 - val_mse: 1.1602e-04\n",
            "Epoch 184/200\n",
            "9/9 [==============================] - 0s 9ms/step - loss: 0.0052 - mse: 8.4112e-05 - val_loss: 0.0063 - val_mse: 1.0770e-04\n",
            "Epoch 185/200\n",
            "9/9 [==============================] - 0s 6ms/step - loss: 0.0053 - mse: 8.4159e-05 - val_loss: 0.0078 - val_mse: 1.3424e-04\n",
            "Epoch 186/200\n",
            "9/9 [==============================] - 0s 7ms/step - loss: 0.0055 - mse: 8.5328e-05 - val_loss: 0.0063 - val_mse: 1.0503e-04\n",
            "Epoch 187/200\n",
            "9/9 [==============================] - 0s 8ms/step - loss: 0.0053 - mse: 8.3656e-05 - val_loss: 0.0072 - val_mse: 1.2212e-04\n",
            "Epoch 188/200\n",
            "9/9 [==============================] - 0s 9ms/step - loss: 0.0058 - mse: 8.6212e-05 - val_loss: 0.0067 - val_mse: 1.0940e-04\n",
            "Epoch 189/200\n",
            "9/9 [==============================] - 0s 6ms/step - loss: 0.0058 - mse: 8.7252e-05 - val_loss: 0.0078 - val_mse: 1.3468e-04\n",
            "Epoch 190/200\n",
            "9/9 [==============================] - 0s 7ms/step - loss: 0.0061 - mse: 9.1009e-05 - val_loss: 0.0070 - val_mse: 1.2033e-04\n",
            "Epoch 191/200\n",
            "9/9 [==============================] - 0s 6ms/step - loss: 0.0058 - mse: 8.9054e-05 - val_loss: 0.0076 - val_mse: 1.3806e-04\n",
            "Epoch 192/200\n",
            "9/9 [==============================] - 0s 6ms/step - loss: 0.0060 - mse: 8.8482e-05 - val_loss: 0.0080 - val_mse: 1.3188e-04\n",
            "Epoch 193/200\n",
            "9/9 [==============================] - 0s 10ms/step - loss: 0.0064 - mse: 9.4963e-05 - val_loss: 0.0071 - val_mse: 1.3335e-04\n",
            "Epoch 194/200\n",
            "9/9 [==============================] - 0s 9ms/step - loss: 0.0058 - mse: 9.2988e-05 - val_loss: 0.0063 - val_mse: 1.0654e-04\n",
            "Epoch 195/200\n",
            "9/9 [==============================] - 0s 9ms/step - loss: 0.0053 - mse: 7.9230e-05 - val_loss: 0.0072 - val_mse: 1.1582e-04\n",
            "Epoch 196/200\n",
            "9/9 [==============================] - 0s 6ms/step - loss: 0.0054 - mse: 8.0633e-05 - val_loss: 0.0061 - val_mse: 1.0545e-04\n",
            "Epoch 197/200\n",
            "9/9 [==============================] - 0s 6ms/step - loss: 0.0053 - mse: 8.1659e-05 - val_loss: 0.0088 - val_mse: 1.4164e-04\n",
            "Epoch 198/200\n",
            "9/9 [==============================] - 0s 10ms/step - loss: 0.0068 - mse: 1.0364e-04 - val_loss: 0.0064 - val_mse: 1.0168e-04\n",
            "Epoch 199/200\n",
            "9/9 [==============================] - 0s 6ms/step - loss: 0.0056 - mse: 8.4628e-05 - val_loss: 0.0076 - val_mse: 1.2250e-04\n",
            "Epoch 200/200\n",
            "9/9 [==============================] - 0s 7ms/step - loss: 0.0053 - mse: 8.1316e-05 - val_loss: 0.0058 - val_mse: 9.1234e-05\n"
          ]
        }
      ]
    },
    {
      "cell_type": "code",
      "source": [
        "def plot_history(history, title, xlabel='epochs', ylabel='mae mse'):\n",
        "  plt.figure(figsize=(10, 6))\n",
        "  plt.plot(history.history['loss'], 'b')\n",
        "  plt.plot(history.history['mse'], 'r')\n",
        "  plt.plot(history.history['val_loss'], 'g')\n",
        "  plt.plot(history.history['val_mse'], 'orange')\n",
        "  plt.title(title)\n",
        "  plt.xlabel(xlabel)\n",
        "  plt.ylabel(ylabel)\n",
        "  plt.legend(['mae', 'mse'], loc='upper right', fontsize='15')\n",
        "  plt.show()"
      ],
      "metadata": {
        "id": "Psbd31qX7ZTR"
      },
      "execution_count": 315,
      "outputs": []
    },
    {
      "cell_type": "code",
      "source": [
        "plot_history(history, \"Hasil Training\")"
      ],
      "metadata": {
        "colab": {
          "base_uri": "https://localhost:8080/",
          "height": 564
        },
        "id": "S-XkjQ9g7-7H",
        "outputId": "74b82387-b408-48d4-a466-2d906f34a9f4"
      },
      "execution_count": 316,
      "outputs": [
        {
          "output_type": "display_data",
          "data": {
            "text/plain": [
              "<Figure size 1000x600 with 1 Axes>"
            ],
            "image/png": "[encoded data removed]"
          },
          "metadata": {}
        }
      ]
    },
    {
      "cell_type": "code",
      "source": [
        "metric = model.get_metrics_result()"
      ],
      "metadata": {
        "id": "aH0lRc4C97Tn"
      },
      "execution_count": 310,
      "outputs": []
    },
    {
      "cell_type": "code",
      "source": [
        "metric"
      ],
      "metadata": {
        "colab": {
          "base_uri": "https://localhost:8080/"
        },
        "id": "NbYisHE799cl",
        "outputId": "c52ef4c8-1de6-4292-f154-496836cf0750"
      },
      "execution_count": 311,
      "outputs": [
        {
          "output_type": "execute_result",
          "data": {
            "text/plain": [
              "{'loss': <tf.Tensor: shape=(), dtype=float32, numpy=0.005820618>,\n",
              " 'mse': <tf.Tensor: shape=(), dtype=float32, numpy=9.123359e-05>}"
            ]
          },
          "metadata": {},
          "execution_count": 311
        }
      ]
    },
    {
      "cell_type": "code",
      "source": [
        "prediksi = model.predict(X_test)"
      ],
      "metadata": {
        "colab": {
          "base_uri": "https://localhost:8080/"
        },
        "id": "ay2a-cKk8QTg",
        "outputId": "7ea7af3f-0b8a-4c49-c20d-9296497d236b"
      },
      "execution_count": 312,
      "outputs": [
        {
          "output_type": "stream",
          "name": "stdout",
          "text": [
            "4/4 [==============================] - 0s 3ms/step\n"
          ]
        }
      ]
    },
    {
      "cell_type": "code",
      "source": [
        "corr, _ = spearmanr(y_test, prediksi)"
      ],
      "metadata": {
        "id": "gtP_NLyA8UxX"
      },
      "execution_count": 317,
      "outputs": []
    },
    {
      "cell_type": "code",
      "source": [
        "corr"
      ],
      "metadata": {
        "colab": {
          "base_uri": "https://localhost:8080/"
        },
        "id": "mNj9ynqx8kAo",
        "outputId": "1aebad39-5a92-454d-ace1-c451e436ab42"
      },
      "execution_count": 318,
      "outputs": [
        {
          "output_type": "execute_result",
          "data": {
            "text/plain": [
              "0.9990215896014688"
            ]
          },
          "metadata": {},
          "execution_count": 318
        }
      ]
    }
  ]
}