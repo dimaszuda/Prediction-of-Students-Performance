{
  "nbformat": 4,
  "nbformat_minor": 0,
  "metadata": {
    "colab": {
      "provenance": [],
      "authorship_tag": "ABX9TyOR3ZvnF7he/TaZ4UwDZ9Q8",
      "include_colab_link": true
    },
    "kernelspec": {
      "name": "python3",
      "display_name": "Python 3"
    },
    "language_info": {
      "name": "python"
    }
  },
  "cells": [
    {
      "cell_type": "markdown",
      "metadata": {
        "id": "view-in-github",
        "colab_type": "text"
      },
      "source": [
        "<a href=\"https://colab.research.google.com/github/dimaszuda/Prediction-of-Students-Performance/blob/main/Student_Performance.ipynb\" target=\"_parent\"><img src=\"https://colab.research.google.com/assets/colab-badge.svg\" alt=\"Open In Colab\"/></a>"
      ]
    },
    {
      "cell_type": "code",
      "execution_count": null,
      "metadata": {
        "id": "ZZtrblOZQARN"
      },
      "outputs": [],
      "source": [
        "import pandas as pd\n",
        "from matplotlib import pyplot as plt\n",
        "import seaborn as sns\n",
        "from sklearn.preprocessing import MinMaxScaler\n",
        "import tensorflow as tf\n",
        "from scipy.stats import spearmanr\n",
        "from sklearn.model_selection import train_test_split"
      ]
    },
    {
      "cell_type": "code",
      "source": [
        "!wget https://raw.githubusercontent.com/dimaszuda/Prediction-of-Students-Performance/main/StudentsPerformance.csv"
      ],
      "metadata": {
        "colab": {
          "base_uri": "https://localhost:8080/"
        },
        "id": "f1U0khMCRcLs",
        "outputId": "30f0bf2e-0088-464c-ecdd-0c92a0b38485"
      },
      "execution_count": null,
      "outputs": [
        {
          "output_type": "stream",
          "name": "stdout",
          "text": [
            "--2023-06-25 09:13:44--  https://raw.githubusercontent.com/dimaszuda/Prediction-of-Students-Performance/main/StudentsPerformance.csv\n",
            "Resolving raw.githubusercontent.com (raw.githubusercontent.com)... 185.199.110.133, 185.199.108.133, 185.199.111.133, ...\n",
            "Connecting to raw.githubusercontent.com (raw.githubusercontent.com)|185.199.110.133|:443... connected.\n",
            "HTTP request sent, awaiting response... 200 OK\n",
            "Length: 72036 (70K) [text/plain]\n",
            "Saving to: ‘StudentsPerformance.csv’\n",
            "\n",
            "\rStudentsPerformance   0%[                    ]       0  --.-KB/s               \rStudentsPerformance 100%[===================>]  70.35K  --.-KB/s    in 0.01s   \n",
            "\n",
            "2023-06-25 09:13:44 (5.13 MB/s) - ‘StudentsPerformance.csv’ saved [72036/72036]\n",
            "\n"
          ]
        }
      ]
    },
    {
      "cell_type": "code",
      "source": [
        "df = pd.read_csv('StudentsPerformance.csv')"
      ],
      "metadata": {
        "id": "KoU752u6VzNn"
      },
      "execution_count": null,
      "outputs": []
    },
    {
      "cell_type": "code",
      "source": [
        "df.head(3)"
      ],
      "metadata": {
        "colab": {
          "base_uri": "https://localhost:8080/",
          "height": 143
        },
        "id": "vClOxS9EV7AI",
        "outputId": "89e872f3-c5c0-4ef5-c551-edbdd383e0a8"
      },
      "execution_count": null,
      "outputs": [
        {
          "output_type": "execute_result",
          "data": {
            "text/plain": [
              "   gender race/ethnicity parental level of education     lunch  \\\n",
              "0  female        group B           bachelor's degree  standard   \n",
              "1  female        group C                some college  standard   \n",
              "2  female        group B             master's degree  standard   \n",
              "\n",
              "  test preparation course  math score  reading score  writing score  \n",
              "0                    none          72             72             74  \n",
              "1               completed          69             90             88  \n",
              "2                    none          90             95             93  "
            ],
            "text/html": [
              "\n",
              "  <div id=\"df-ec599029-e72a-4001-980d-0f08e8e861d8\">\n",
              "    <div class=\"colab-df-container\">\n",
              "      <div>\n",
              "<style scoped>\n",
              "    .dataframe tbody tr th:only-of-type {\n",
              "        vertical-align: middle;\n",
              "    }\n",
              "\n",
              "    .dataframe tbody tr th {\n",
              "        vertical-align: top;\n",
              "    }\n",
              "\n",
              "    .dataframe thead th {\n",
              "        text-align: right;\n",
              "    }\n",
              "</style>\n",
              "<table border=\"1\" class=\"dataframe\">\n",
              "  <thead>\n",
              "    <tr style=\"text-align: right;\">\n",
              "      <th></th>\n",
              "      <th>gender</th>\n",
              "      <th>race/ethnicity</th>\n",
              "      <th>parental level of education</th>\n",
              "      <th>lunch</th>\n",
              "      <th>test preparation course</th>\n",
              "      <th>math score</th>\n",
              "      <th>reading score</th>\n",
              "      <th>writing score</th>\n",
              "    </tr>\n",
              "  </thead>\n",
              "  <tbody>\n",
              "    <tr>\n",
              "      <th>0</th>\n",
              "      <td>female</td>\n",
              "      <td>group B</td>\n",
              "      <td>bachelor's degree</td>\n",
              "      <td>standard</td>\n",
              "      <td>none</td>\n",
              "      <td>72</td>\n",
              "      <td>72</td>\n",
              "      <td>74</td>\n",
              "    </tr>\n",
              "    <tr>\n",
              "      <th>1</th>\n",
              "      <td>female</td>\n",
              "      <td>group C</td>\n",
              "      <td>some college</td>\n",
              "      <td>standard</td>\n",
              "      <td>completed</td>\n",
              "      <td>69</td>\n",
              "      <td>90</td>\n",
              "      <td>88</td>\n",
              "    </tr>\n",
              "    <tr>\n",
              "      <th>2</th>\n",
              "      <td>female</td>\n",
              "      <td>group B</td>\n",
              "      <td>master's degree</td>\n",
              "      <td>standard</td>\n",
              "      <td>none</td>\n",
              "      <td>90</td>\n",
              "      <td>95</td>\n",
              "      <td>93</td>\n",
              "    </tr>\n",
              "  </tbody>\n",
              "</table>\n",
              "</div>\n",
              "      <button class=\"colab-df-convert\" onclick=\"convertToInteractive('df-ec599029-e72a-4001-980d-0f08e8e861d8')\"\n",
              "              title=\"Convert this dataframe to an interactive table.\"\n",
              "              style=\"display:none;\">\n",
              "        \n",
              "  <svg xmlns=\"http://www.w3.org/2000/svg\" height=\"24px\"viewBox=\"0 0 24 24\"\n",
              "       width=\"24px\">\n",
              "    <path d=\"M0 0h24v24H0V0z\" fill=\"none\"/>\n",
              "    <path d=\"M18.56 5.44l.94 2.06.94-2.06 2.06-.94-2.06-.94-.94-2.06-.94 2.06-2.06.94zm-11 1L8.5 8.5l.94-2.06 2.06-.94-2.06-.94L8.5 2.5l-.94 2.06-2.06.94zm10 10l.94 2.06.94-2.06 2.06-.94-2.06-.94-.94-2.06-.94 2.06-2.06.94z\"/><path d=\"M17.41 7.96l-1.37-1.37c-.4-.4-.92-.59-1.43-.59-.52 0-1.04.2-1.43.59L10.3 9.45l-7.72 7.72c-.78.78-.78 2.05 0 2.83L4 21.41c.39.39.9.59 1.41.59.51 0 1.02-.2 1.41-.59l7.78-7.78 2.81-2.81c.8-.78.8-2.07 0-2.86zM5.41 20L4 18.59l7.72-7.72 1.47 1.35L5.41 20z\"/>\n",
              "  </svg>\n",
              "      </button>\n",
              "      \n",
              "  <style>\n",
              "    .colab-df-container {\n",
              "      display:flex;\n",
              "      flex-wrap:wrap;\n",
              "      gap: 12px;\n",
              "    }\n",
              "\n",
              "    .colab-df-convert {\n",
              "      background-color: #E8F0FE;\n",
              "      border: none;\n",
              "      border-radius: 50%;\n",
              "      cursor: pointer;\n",
              "      display: none;\n",
              "      fill: #1967D2;\n",
              "      height: 32px;\n",
              "      padding: 0 0 0 0;\n",
              "      width: 32px;\n",
              "    }\n",
              "\n",
              "    .colab-df-convert:hover {\n",
              "      background-color: #E2EBFA;\n",
              "      box-shadow: 0px 1px 2px rgba(60, 64, 67, 0.3), 0px 1px 3px 1px rgba(60, 64, 67, 0.15);\n",
              "      fill: #174EA6;\n",
              "    }\n",
              "\n",
              "    [theme=dark] .colab-df-convert {\n",
              "      background-color: #3B4455;\n",
              "      fill: #D2E3FC;\n",
              "    }\n",
              "\n",
              "    [theme=dark] .colab-df-convert:hover {\n",
              "      background-color: #434B5C;\n",
              "      box-shadow: 0px 1px 3px 1px rgba(0, 0, 0, 0.15);\n",
              "      filter: drop-shadow(0px 1px 2px rgba(0, 0, 0, 0.3));\n",
              "      fill: #FFFFFF;\n",
              "    }\n",
              "  </style>\n",
              "\n",
              "      <script>\n",
              "        const buttonEl =\n",
              "          document.querySelector('#df-ec599029-e72a-4001-980d-0f08e8e861d8 button.colab-df-convert');\n",
              "        buttonEl.style.display =\n",
              "          google.colab.kernel.accessAllowed ? 'block' : 'none';\n",
              "\n",
              "        async function convertToInteractive(key) {\n",
              "          const element = document.querySelector('#df-ec599029-e72a-4001-980d-0f08e8e861d8');\n",
              "          const dataTable =\n",
              "            await google.colab.kernel.invokeFunction('convertToInteractive',\n",
              "                                                     [key], {});\n",
              "          if (!dataTable) return;\n",
              "\n",
              "          const docLinkHtml = 'Like what you see? Visit the ' +\n",
              "            '<a target=\"_blank\" href=https://colab.research.google.com/notebooks/data_table.ipynb>data table notebook</a>'\n",
              "            + ' to learn more about interactive tables.';\n",
              "          element.innerHTML = '';\n",
              "          dataTable['output_type'] = 'display_data';\n",
              "          await google.colab.output.renderOutput(dataTable, element);\n",
              "          const docLink = document.createElement('div');\n",
              "          docLink.innerHTML = docLinkHtml;\n",
              "          element.appendChild(docLink);\n",
              "        }\n",
              "      </script>\n",
              "    </div>\n",
              "  </div>\n",
              "  "
            ]
          },
          "metadata": {},
          "execution_count": 4
        }
      ]
    },
    {
      "cell_type": "code",
      "source": [
        "columns = ['gender',\n",
        "           'parental level of education',\n",
        "           'lunch',\n",
        "           'test preparation course',\n",
        "           'math score',\n",
        "           'reading score',\n",
        "           'writing score']"
      ],
      "metadata": {
        "id": "xZ6nit9KV_Vu"
      },
      "execution_count": null,
      "outputs": []
    },
    {
      "cell_type": "code",
      "source": [
        "df = df[columns]"
      ],
      "metadata": {
        "id": "AfQX29lCWh4-"
      },
      "execution_count": null,
      "outputs": []
    },
    {
      "cell_type": "code",
      "source": [
        "df = df.drop_duplicates()"
      ],
      "metadata": {
        "id": "a6yoamfbWkdK"
      },
      "execution_count": null,
      "outputs": []
    },
    {
      "cell_type": "code",
      "source": [
        "df = df.rename(columns= {'parental level of education' : 'parent edu', 'test preparation course' : 'preparation'})"
      ],
      "metadata": {
        "id": "mO9SdLgEXQYv"
      },
      "execution_count": null,
      "outputs": []
    },
    {
      "cell_type": "code",
      "source": [
        "df['gender'].map(lambda x: {1: 'male', 2: 'female'}.get(x))"
      ],
      "metadata": {
        "colab": {
          "base_uri": "https://localhost:8080/"
        },
        "id": "S7FdKaJZW9RV",
        "outputId": "d9bfc522-7a4a-4c61-9a5e-5d44bafe4837"
      },
      "execution_count": null,
      "outputs": [
        {
          "output_type": "execute_result",
          "data": {
            "text/plain": [
              "0      None\n",
              "1      None\n",
              "2      None\n",
              "3      None\n",
              "4      None\n",
              "       ... \n",
              "995    None\n",
              "996    None\n",
              "997    None\n",
              "998    None\n",
              "999    None\n",
              "Name: gender, Length: 1000, dtype: object"
            ]
          },
          "metadata": {},
          "execution_count": 9
        }
      ]
    },
    {
      "cell_type": "code",
      "source": [
        "df['parent edu'].unique()"
      ],
      "metadata": {
        "colab": {
          "base_uri": "https://localhost:8080/"
        },
        "id": "PjEyNjhuXzpi",
        "outputId": "fcc22881-6b30-4d1b-8e22-94577a0517e5"
      },
      "execution_count": null,
      "outputs": [
        {
          "output_type": "execute_result",
          "data": {
            "text/plain": [
              "array([\"bachelor's degree\", 'some college', \"master's degree\",\n",
              "       \"associate's degree\", 'high school', 'some high school'],\n",
              "      dtype=object)"
            ]
          },
          "metadata": {},
          "execution_count": 10
        }
      ]
    },
    {
      "cell_type": "code",
      "source": [
        "df['parent edu'].map(lambda x: {1 : 'bachelor\\'s degree',\n",
        "                                2 : 'some college',\n",
        "                                3 : 'master\\'s degree',\n",
        "                                4 : 'associate\\' degree',\n",
        "                                5 : 'high school',\n",
        "                                6 : 'some high school'}.get(x))"
      ],
      "metadata": {
        "colab": {
          "base_uri": "https://localhost:8080/"
        },
        "id": "GIgKiyNrYOq1",
        "outputId": "311067c4-be94-4265-d8b0-42569cf135e2"
      },
      "execution_count": null,
      "outputs": [
        {
          "output_type": "execute_result",
          "data": {
            "text/plain": [
              "0      None\n",
              "1      None\n",
              "2      None\n",
              "3      None\n",
              "4      None\n",
              "       ... \n",
              "995    None\n",
              "996    None\n",
              "997    None\n",
              "998    None\n",
              "999    None\n",
              "Name: parent edu, Length: 1000, dtype: object"
            ]
          },
          "metadata": {},
          "execution_count": 11
        }
      ]
    },
    {
      "cell_type": "code",
      "source": [
        "df['lunch'].unique()"
      ],
      "metadata": {
        "colab": {
          "base_uri": "https://localhost:8080/"
        },
        "id": "rlYFAowOY0pt",
        "outputId": "754b4af9-00ba-4a86-d167-59cb75851801"
      },
      "execution_count": null,
      "outputs": [
        {
          "output_type": "execute_result",
          "data": {
            "text/plain": [
              "array(['standard', 'free/reduced'], dtype=object)"
            ]
          },
          "metadata": {},
          "execution_count": 12
        }
      ]
    },
    {
      "cell_type": "code",
      "source": [
        "df['lunch'].map(lambda x: {1 : 'standard', 2 : 'free/reduced'}.get(x))"
      ],
      "metadata": {
        "colab": {
          "base_uri": "https://localhost:8080/"
        },
        "id": "oZILsnCPY51Y",
        "outputId": "ab08e0a2-6259-4230-936a-29d65652de5d"
      },
      "execution_count": null,
      "outputs": [
        {
          "output_type": "execute_result",
          "data": {
            "text/plain": [
              "0      None\n",
              "1      None\n",
              "2      None\n",
              "3      None\n",
              "4      None\n",
              "       ... \n",
              "995    None\n",
              "996    None\n",
              "997    None\n",
              "998    None\n",
              "999    None\n",
              "Name: lunch, Length: 1000, dtype: object"
            ]
          },
          "metadata": {},
          "execution_count": 13
        }
      ]
    },
    {
      "cell_type": "code",
      "source": [
        "df['preparation'].unique()"
      ],
      "metadata": {
        "colab": {
          "base_uri": "https://localhost:8080/"
        },
        "id": "-jsYi-MUZFnX",
        "outputId": "918f1dbf-ecd2-4657-bb13-a7b59ec75d83"
      },
      "execution_count": null,
      "outputs": [
        {
          "output_type": "execute_result",
          "data": {
            "text/plain": [
              "array(['none', 'completed'], dtype=object)"
            ]
          },
          "metadata": {},
          "execution_count": 14
        }
      ]
    },
    {
      "cell_type": "code",
      "source": [
        "df['preparation'].map(lambda x: {1 : 'none', 2 : 'completed'}.get(x))"
      ],
      "metadata": {
        "colab": {
          "base_uri": "https://localhost:8080/"
        },
        "id": "tC9KiiIYZLn4",
        "outputId": "8a573d4d-9991-404f-ddb6-d310c302ce59"
      },
      "execution_count": null,
      "outputs": [
        {
          "output_type": "execute_result",
          "data": {
            "text/plain": [
              "0      None\n",
              "1      None\n",
              "2      None\n",
              "3      None\n",
              "4      None\n",
              "       ... \n",
              "995    None\n",
              "996    None\n",
              "997    None\n",
              "998    None\n",
              "999    None\n",
              "Name: preparation, Length: 1000, dtype: object"
            ]
          },
          "metadata": {},
          "execution_count": 15
        }
      ]
    },
    {
      "cell_type": "code",
      "source": [
        "df = pd.get_dummies(df, prefix='', prefix_sep='')"
      ],
      "metadata": {
        "id": "PMk3QCbBZUxY"
      },
      "execution_count": null,
      "outputs": []
    },
    {
      "cell_type": "code",
      "source": [
        "df.tail(2)"
      ],
      "metadata": {
        "colab": {
          "base_uri": "https://localhost:8080/",
          "height": 173
        },
        "id": "gmuZVe09Zpet",
        "outputId": "452a447a-d783-45c2-a1c2-5ad22c2d9bda"
      },
      "execution_count": null,
      "outputs": [
        {
          "output_type": "execute_result",
          "data": {
            "text/plain": [
              "     math score  reading score  writing score  female  male  \\\n",
              "998          68             78             77       1     0   \n",
              "999          77             86             86       1     0   \n",
              "\n",
              "     associate's degree  bachelor's degree  high school  master's degree  \\\n",
              "998                   0                  0            0                0   \n",
              "999                   0                  0            0                0   \n",
              "\n",
              "     some college  some high school  free/reduced  standard  completed  none  \n",
              "998             1                 0             0         1          1     0  \n",
              "999             1                 0             1         0          0     1  "
            ],
            "text/html": [
              "\n",
              "  <div id=\"df-bf606d2b-f5d8-4d8a-adaf-03c5c0dca946\">\n",
              "    <div class=\"colab-df-container\">\n",
              "      <div>\n",
              "<style scoped>\n",
              "    .dataframe tbody tr th:only-of-type {\n",
              "        vertical-align: middle;\n",
              "    }\n",
              "\n",
              "    .dataframe tbody tr th {\n",
              "        vertical-align: top;\n",
              "    }\n",
              "\n",
              "    .dataframe thead th {\n",
              "        text-align: right;\n",
              "    }\n",
              "</style>\n",
              "<table border=\"1\" class=\"dataframe\">\n",
              "  <thead>\n",
              "    <tr style=\"text-align: right;\">\n",
              "      <th></th>\n",
              "      <th>math score</th>\n",
              "      <th>reading score</th>\n",
              "      <th>writing score</th>\n",
              "      <th>female</th>\n",
              "      <th>male</th>\n",
              "      <th>associate's degree</th>\n",
              "      <th>bachelor's degree</th>\n",
              "      <th>high school</th>\n",
              "      <th>master's degree</th>\n",
              "      <th>some college</th>\n",
              "      <th>some high school</th>\n",
              "      <th>free/reduced</th>\n",
              "      <th>standard</th>\n",
              "      <th>completed</th>\n",
              "      <th>none</th>\n",
              "    </tr>\n",
              "  </thead>\n",
              "  <tbody>\n",
              "    <tr>\n",
              "      <th>998</th>\n",
              "      <td>68</td>\n",
              "      <td>78</td>\n",
              "      <td>77</td>\n",
              "      <td>1</td>\n",
              "      <td>0</td>\n",
              "      <td>0</td>\n",
              "      <td>0</td>\n",
              "      <td>0</td>\n",
              "      <td>0</td>\n",
              "      <td>1</td>\n",
              "      <td>0</td>\n",
              "      <td>0</td>\n",
              "      <td>1</td>\n",
              "      <td>1</td>\n",
              "      <td>0</td>\n",
              "    </tr>\n",
              "    <tr>\n",
              "      <th>999</th>\n",
              "      <td>77</td>\n",
              "      <td>86</td>\n",
              "      <td>86</td>\n",
              "      <td>1</td>\n",
              "      <td>0</td>\n",
              "      <td>0</td>\n",
              "      <td>0</td>\n",
              "      <td>0</td>\n",
              "      <td>0</td>\n",
              "      <td>1</td>\n",
              "      <td>0</td>\n",
              "      <td>1</td>\n",
              "      <td>0</td>\n",
              "      <td>0</td>\n",
              "      <td>1</td>\n",
              "    </tr>\n",
              "  </tbody>\n",
              "</table>\n",
              "</div>\n",
              "      <button class=\"colab-df-convert\" onclick=\"convertToInteractive('df-bf606d2b-f5d8-4d8a-adaf-03c5c0dca946')\"\n",
              "              title=\"Convert this dataframe to an interactive table.\"\n",
              "              style=\"display:none;\">\n",
              "        \n",
              "  <svg xmlns=\"http://www.w3.org/2000/svg\" height=\"24px\"viewBox=\"0 0 24 24\"\n",
              "       width=\"24px\">\n",
              "    <path d=\"M0 0h24v24H0V0z\" fill=\"none\"/>\n",
              "    <path d=\"M18.56 5.44l.94 2.06.94-2.06 2.06-.94-2.06-.94-.94-2.06-.94 2.06-2.06.94zm-11 1L8.5 8.5l.94-2.06 2.06-.94-2.06-.94L8.5 2.5l-.94 2.06-2.06.94zm10 10l.94 2.06.94-2.06 2.06-.94-2.06-.94-.94-2.06-.94 2.06-2.06.94z\"/><path d=\"M17.41 7.96l-1.37-1.37c-.4-.4-.92-.59-1.43-.59-.52 0-1.04.2-1.43.59L10.3 9.45l-7.72 7.72c-.78.78-.78 2.05 0 2.83L4 21.41c.39.39.9.59 1.41.59.51 0 1.02-.2 1.41-.59l7.78-7.78 2.81-2.81c.8-.78.8-2.07 0-2.86zM5.41 20L4 18.59l7.72-7.72 1.47 1.35L5.41 20z\"/>\n",
              "  </svg>\n",
              "      </button>\n",
              "      \n",
              "  <style>\n",
              "    .colab-df-container {\n",
              "      display:flex;\n",
              "      flex-wrap:wrap;\n",
              "      gap: 12px;\n",
              "    }\n",
              "\n",
              "    .colab-df-convert {\n",
              "      background-color: #E8F0FE;\n",
              "      border: none;\n",
              "      border-radius: 50%;\n",
              "      cursor: pointer;\n",
              "      display: none;\n",
              "      fill: #1967D2;\n",
              "      height: 32px;\n",
              "      padding: 0 0 0 0;\n",
              "      width: 32px;\n",
              "    }\n",
              "\n",
              "    .colab-df-convert:hover {\n",
              "      background-color: #E2EBFA;\n",
              "      box-shadow: 0px 1px 2px rgba(60, 64, 67, 0.3), 0px 1px 3px 1px rgba(60, 64, 67, 0.15);\n",
              "      fill: #174EA6;\n",
              "    }\n",
              "\n",
              "    [theme=dark] .colab-df-convert {\n",
              "      background-color: #3B4455;\n",
              "      fill: #D2E3FC;\n",
              "    }\n",
              "\n",
              "    [theme=dark] .colab-df-convert:hover {\n",
              "      background-color: #434B5C;\n",
              "      box-shadow: 0px 1px 3px 1px rgba(0, 0, 0, 0.15);\n",
              "      filter: drop-shadow(0px 1px 2px rgba(0, 0, 0, 0.3));\n",
              "      fill: #FFFFFF;\n",
              "    }\n",
              "  </style>\n",
              "\n",
              "      <script>\n",
              "        const buttonEl =\n",
              "          document.querySelector('#df-bf606d2b-f5d8-4d8a-adaf-03c5c0dca946 button.colab-df-convert');\n",
              "        buttonEl.style.display =\n",
              "          google.colab.kernel.accessAllowed ? 'block' : 'none';\n",
              "\n",
              "        async function convertToInteractive(key) {\n",
              "          const element = document.querySelector('#df-bf606d2b-f5d8-4d8a-adaf-03c5c0dca946');\n",
              "          const dataTable =\n",
              "            await google.colab.kernel.invokeFunction('convertToInteractive',\n",
              "                                                     [key], {});\n",
              "          if (!dataTable) return;\n",
              "\n",
              "          const docLinkHtml = 'Like what you see? Visit the ' +\n",
              "            '<a target=\"_blank\" href=https://colab.research.google.com/notebooks/data_table.ipynb>data table notebook</a>'\n",
              "            + ' to learn more about interactive tables.';\n",
              "          element.innerHTML = '';\n",
              "          dataTable['output_type'] = 'display_data';\n",
              "          await google.colab.output.renderOutput(dataTable, element);\n",
              "          const docLink = document.createElement('div');\n",
              "          docLink.innerHTML = docLinkHtml;\n",
              "          element.appendChild(docLink);\n",
              "        }\n",
              "      </script>\n",
              "    </div>\n",
              "  </div>\n",
              "  "
            ]
          },
          "metadata": {},
          "execution_count": 17
        }
      ]
    },
    {
      "cell_type": "code",
      "source": [
        "df = df.rename(columns= {'associate\\'s degree' : 'parent\\'s associate degree',\n",
        "                         'bachelor\\'s degree' : 'parent\\'s bachelor degree',\n",
        "                         'high school' : 'parent\\'s high school',\n",
        "                         'master\\'s degree' : 'parent\\'s master degree',\n",
        "                         'some college' : 'parent\\'s some college',\n",
        "                         'some high school' : 'parent\\'s some high school',\n",
        "                         'free/reduced' : 'lunch free/reduced',\n",
        "                         'standard' : 'lunch standard',\n",
        "                         'completed' : 'test prepration completed',\n",
        "                         'none' : 'test preparation none'})"
      ],
      "metadata": {
        "id": "K0Rx4c8kbctE"
      },
      "execution_count": null,
      "outputs": []
    },
    {
      "cell_type": "code",
      "source": [
        "order = ['male',\n",
        "         'female',\n",
        "         'parent\\'s associate degree',\n",
        "         'parent\\'s bachelor degree',\n",
        "         'parent\\'s high school',\n",
        "         'parent\\'s master degree',\n",
        "         'parent\\'s some college',\n",
        "         'parent\\'s some high school',\n",
        "         'lunch free/reduced',\n",
        "         'lunch standard',\n",
        "         'test prepration completed',\n",
        "         'test preparation none',\n",
        "         'math score',\n",
        "         'reading score',\n",
        "         'writing score']"
      ],
      "metadata": {
        "id": "ZWFFOg0zfP1t"
      },
      "execution_count": null,
      "outputs": []
    },
    {
      "cell_type": "code",
      "source": [
        "df = df.reindex(columns=order)"
      ],
      "metadata": {
        "id": "Jt6iomzaf__I"
      },
      "execution_count": null,
      "outputs": []
    },
    {
      "cell_type": "code",
      "source": [
        "df['average score'] = (df['math score'] + df['reading score'] + df['writing score'])/3"
      ],
      "metadata": {
        "id": "tXOrg-tJgIUZ"
      },
      "execution_count": null,
      "outputs": []
    },
    {
      "cell_type": "code",
      "source": [
        "df['average score'] = df['average score'].astype(int)"
      ],
      "metadata": {
        "id": "tCXPhtdKgV5s"
      },
      "execution_count": null,
      "outputs": []
    },
    {
      "cell_type": "code",
      "source": [
        "X = df.drop(df.columns[[15]], axis=1)"
      ],
      "metadata": {
        "id": "F_e3QF_o2dGd"
      },
      "execution_count": null,
      "outputs": []
    },
    {
      "cell_type": "code",
      "source": [
        "y = df['average score'].values.reshape(-1,1)"
      ],
      "metadata": {
        "id": "YrS9H7Ri3bHI"
      },
      "execution_count": null,
      "outputs": []
    },
    {
      "cell_type": "code",
      "source": [
        "scaler = MinMaxScaler()"
      ],
      "metadata": {
        "id": "uDIRxqJ14a9K"
      },
      "execution_count": null,
      "outputs": []
    },
    {
      "cell_type": "code",
      "source": [
        "X = scaler.fit_transform(X)\n",
        "X = pd.DataFrame(X, columns=order)"
      ],
      "metadata": {
        "id": "ctbOjOJj4iWd"
      },
      "execution_count": null,
      "outputs": []
    },
    {
      "cell_type": "code",
      "source": [
        "y = scaler.fit_transform(y)\n",
        "y = pd.DataFrame(y, columns=['Average Score'])"
      ],
      "metadata": {
        "id": "j6OiQQ7w4meC"
      },
      "execution_count": null,
      "outputs": []
    },
    {
      "cell_type": "code",
      "source": [
        "X_train, X_test, y_train, y_test = train_test_split(X, y, test_size=0.1, shuffle=True)"
      ],
      "metadata": {
        "id": "vLcadld-85T9"
      },
      "execution_count": null,
      "outputs": []
    },
    {
      "cell_type": "code",
      "source": [
        "def build_model():\n",
        "  model = tf.keras.models.Sequential([\n",
        "      tf.keras.layers.Input(shape=(15)),\n",
        "      tf.keras.layers.Dense(32, activation='relu'),\n",
        "      tf.keras.layers.Dense(16, activation='relu'),\n",
        "      tf.keras.layers.Dense(32, activation='relu'),\n",
        "      tf.keras.layers.Dense(1, activation='sigmoid')\n",
        "  ])\n",
        "  optimizer = tf.keras.optimizers.Adam(learning_rate=0.001)\n",
        "  model.compile(loss='mae',\n",
        "                optimizer = optimizer,\n",
        "                metrics=['mse'])\n",
        "  return model"
      ],
      "metadata": {
        "id": "OUXslcrs4wJQ"
      },
      "execution_count": null,
      "outputs": []
    },
    {
      "cell_type": "code",
      "source": [
        "model = build_model()\n",
        "model.summary()"
      ],
      "metadata": {
        "colab": {
          "base_uri": "https://localhost:8080/"
        },
        "id": "QRmzubwm6z-O",
        "outputId": "1a6d7fd5-6477-4098-9e8c-0c689a0e36ab"
      },
      "execution_count": null,
      "outputs": [
        {
          "output_type": "stream",
          "name": "stdout",
          "text": [
            "Model: \"sequential_1\"\n",
            "_________________________________________________________________\n",
            " Layer (type)                Output Shape              Param #   \n",
            "=================================================================\n",
            " dense_4 (Dense)             (None, 32)                512       \n",
            "                                                                 \n",
            " dense_5 (Dense)             (None, 16)                528       \n",
            "                                                                 \n",
            " dense_6 (Dense)             (None, 32)                544       \n",
            "                                                                 \n",
            " dense_7 (Dense)             (None, 1)                 33        \n",
            "                                                                 \n",
            "=================================================================\n",
            "Total params: 1,617\n",
            "Trainable params: 1,617\n",
            "Non-trainable params: 0\n",
            "_________________________________________________________________\n"
          ]
        }
      ]
    },
    {
      "cell_type": "code",
      "source": [
        "history = model.fit(X_train, y_train, epochs=200, batch_size=100, shuffle=True, validation_split=0.1)"
      ],
      "metadata": {
        "id": "vh9yTM7c68k4",
        "colab": {
          "base_uri": "https://localhost:8080/"
        },
        "outputId": "89abdd61-410d-4935-df64-7e9161ab8d80"
      },
      "execution_count": null,
      "outputs": [
        {
          "output_type": "stream",
          "name": "stdout",
          "text": [
            "Epoch 1/200\n",
            "9/9 [==============================] - 1s 17ms/step - loss: 0.2073 - mse: 0.0606 - val_loss: 0.1793 - val_mse: 0.0459\n",
            "Epoch 2/200\n",
            "9/9 [==============================] - 0s 4ms/step - loss: 0.1769 - mse: 0.0458 - val_loss: 0.1552 - val_mse: 0.0356\n",
            "Epoch 3/200\n",
            "9/9 [==============================] - 0s 5ms/step - loss: 0.1585 - mse: 0.0374 - val_loss: 0.1389 - val_mse: 0.0290\n",
            "Epoch 4/200\n",
            "9/9 [==============================] - 0s 4ms/step - loss: 0.1434 - mse: 0.0309 - val_loss: 0.1271 - val_mse: 0.0235\n",
            "Epoch 5/200\n",
            "9/9 [==============================] - 0s 4ms/step - loss: 0.1288 - mse: 0.0255 - val_loss: 0.1175 - val_mse: 0.0199\n",
            "Epoch 6/200\n",
            "9/9 [==============================] - 0s 5ms/step - loss: 0.1193 - mse: 0.0222 - val_loss: 0.1132 - val_mse: 0.0186\n",
            "Epoch 7/200\n",
            "9/9 [==============================] - 0s 4ms/step - loss: 0.1138 - mse: 0.0204 - val_loss: 0.1082 - val_mse: 0.0169\n",
            "Epoch 8/200\n",
            "9/9 [==============================] - 0s 4ms/step - loss: 0.1069 - mse: 0.0179 - val_loss: 0.1024 - val_mse: 0.0150\n",
            "Epoch 9/200\n",
            "9/9 [==============================] - 0s 4ms/step - loss: 0.1004 - mse: 0.0157 - val_loss: 0.0963 - val_mse: 0.0135\n",
            "Epoch 10/200\n",
            "9/9 [==============================] - 0s 3ms/step - loss: 0.0931 - mse: 0.0135 - val_loss: 0.0924 - val_mse: 0.0122\n",
            "Epoch 11/200\n",
            "9/9 [==============================] - 0s 4ms/step - loss: 0.0859 - mse: 0.0116 - val_loss: 0.0847 - val_mse: 0.0103\n",
            "Epoch 12/200\n",
            "9/9 [==============================] - 0s 4ms/step - loss: 0.0774 - mse: 0.0096 - val_loss: 0.0758 - val_mse: 0.0081\n",
            "Epoch 13/200\n",
            "9/9 [==============================] - 0s 4ms/step - loss: 0.0674 - mse: 0.0075 - val_loss: 0.0655 - val_mse: 0.0058\n",
            "Epoch 14/200\n",
            "9/9 [==============================] - 0s 4ms/step - loss: 0.0551 - mse: 0.0052 - val_loss: 0.0492 - val_mse: 0.0034\n",
            "Epoch 15/200\n",
            "9/9 [==============================] - 0s 4ms/step - loss: 0.0394 - mse: 0.0030 - val_loss: 0.0309 - val_mse: 0.0016\n",
            "Epoch 16/200\n",
            "9/9 [==============================] - 0s 4ms/step - loss: 0.0285 - mse: 0.0017 - val_loss: 0.0217 - val_mse: 8.0052e-04\n",
            "Epoch 17/200\n",
            "9/9 [==============================] - 0s 4ms/step - loss: 0.0238 - mse: 0.0012 - val_loss: 0.0180 - val_mse: 5.4754e-04\n",
            "Epoch 18/200\n",
            "9/9 [==============================] - 0s 4ms/step - loss: 0.0214 - mse: 9.4755e-04 - val_loss: 0.0163 - val_mse: 4.8908e-04\n",
            "Epoch 19/200\n",
            "9/9 [==============================] - 0s 4ms/step - loss: 0.0198 - mse: 8.9555e-04 - val_loss: 0.0164 - val_mse: 4.7738e-04\n",
            "Epoch 20/200\n",
            "9/9 [==============================] - 0s 4ms/step - loss: 0.0188 - mse: 8.6822e-04 - val_loss: 0.0226 - val_mse: 6.9157e-04\n",
            "Epoch 21/200\n",
            "9/9 [==============================] - 0s 4ms/step - loss: 0.0214 - mse: 9.2406e-04 - val_loss: 0.0169 - val_mse: 4.4397e-04\n",
            "Epoch 22/200\n",
            "9/9 [==============================] - 0s 5ms/step - loss: 0.0178 - mse: 7.3245e-04 - val_loss: 0.0130 - val_mse: 3.1393e-04\n",
            "Epoch 23/200\n",
            "9/9 [==============================] - 0s 4ms/step - loss: 0.0159 - mse: 6.5700e-04 - val_loss: 0.0121 - val_mse: 2.7847e-04\n",
            "Epoch 24/200\n",
            "9/9 [==============================] - 0s 4ms/step - loss: 0.0154 - mse: 6.4606e-04 - val_loss: 0.0121 - val_mse: 2.9490e-04\n",
            "Epoch 25/200\n",
            "9/9 [==============================] - 0s 4ms/step - loss: 0.0149 - mse: 6.3085e-04 - val_loss: 0.0116 - val_mse: 2.7421e-04\n",
            "Epoch 26/200\n",
            "9/9 [==============================] - 0s 4ms/step - loss: 0.0143 - mse: 5.9879e-04 - val_loss: 0.0131 - val_mse: 3.1869e-04\n",
            "Epoch 27/200\n",
            "9/9 [==============================] - 0s 4ms/step - loss: 0.0143 - mse: 6.0035e-04 - val_loss: 0.0129 - val_mse: 3.0202e-04\n",
            "Epoch 28/200\n",
            "9/9 [==============================] - 0s 4ms/step - loss: 0.0147 - mse: 5.7161e-04 - val_loss: 0.0115 - val_mse: 2.4630e-04\n",
            "Epoch 29/200\n",
            "9/9 [==============================] - 0s 4ms/step - loss: 0.0133 - mse: 5.3748e-04 - val_loss: 0.0116 - val_mse: 2.5391e-04\n",
            "Epoch 30/200\n",
            "9/9 [==============================] - 0s 4ms/step - loss: 0.0133 - mse: 5.3077e-04 - val_loss: 0.0119 - val_mse: 2.4178e-04\n",
            "Epoch 31/200\n",
            "9/9 [==============================] - 0s 4ms/step - loss: 0.0146 - mse: 5.5085e-04 - val_loss: 0.0133 - val_mse: 2.7679e-04\n",
            "Epoch 32/200\n",
            "9/9 [==============================] - 0s 4ms/step - loss: 0.0139 - mse: 5.2567e-04 - val_loss: 0.0146 - val_mse: 3.6648e-04\n",
            "Epoch 33/200\n",
            "9/9 [==============================] - 0s 4ms/step - loss: 0.0142 - mse: 5.1085e-04 - val_loss: 0.0120 - val_mse: 2.6790e-04\n",
            "Epoch 34/200\n",
            "9/9 [==============================] - 0s 4ms/step - loss: 0.0131 - mse: 4.7472e-04 - val_loss: 0.0109 - val_mse: 2.3470e-04\n",
            "Epoch 35/200\n",
            "9/9 [==============================] - 0s 4ms/step - loss: 0.0119 - mse: 4.5627e-04 - val_loss: 0.0098 - val_mse: 2.0090e-04\n",
            "Epoch 36/200\n",
            "9/9 [==============================] - 0s 4ms/step - loss: 0.0116 - mse: 4.5318e-04 - val_loss: 0.0102 - val_mse: 2.2138e-04\n",
            "Epoch 37/200\n",
            "9/9 [==============================] - 0s 4ms/step - loss: 0.0112 - mse: 4.4804e-04 - val_loss: 0.0095 - val_mse: 1.8945e-04\n",
            "Epoch 38/200\n",
            "9/9 [==============================] - 0s 4ms/step - loss: 0.0114 - mse: 4.1947e-04 - val_loss: 0.0112 - val_mse: 2.4854e-04\n",
            "Epoch 39/200\n",
            "9/9 [==============================] - 0s 4ms/step - loss: 0.0119 - mse: 4.2910e-04 - val_loss: 0.0100 - val_mse: 1.8371e-04\n",
            "Epoch 40/200\n",
            "9/9 [==============================] - 0s 3ms/step - loss: 0.0122 - mse: 4.3323e-04 - val_loss: 0.0094 - val_mse: 1.9059e-04\n",
            "Epoch 41/200\n",
            "9/9 [==============================] - 0s 4ms/step - loss: 0.0108 - mse: 4.0329e-04 - val_loss: 0.0093 - val_mse: 1.8620e-04\n",
            "Epoch 42/200\n",
            "9/9 [==============================] - 0s 4ms/step - loss: 0.0105 - mse: 3.9300e-04 - val_loss: 0.0104 - val_mse: 2.2091e-04\n",
            "Epoch 43/200\n",
            "9/9 [==============================] - 0s 4ms/step - loss: 0.0107 - mse: 3.9292e-04 - val_loss: 0.0096 - val_mse: 1.8400e-04\n",
            "Epoch 44/200\n",
            "9/9 [==============================] - 0s 3ms/step - loss: 0.0112 - mse: 3.9921e-04 - val_loss: 0.0142 - val_mse: 3.3620e-04\n",
            "Epoch 45/200\n",
            "9/9 [==============================] - 0s 4ms/step - loss: 0.0133 - mse: 4.2576e-04 - val_loss: 0.0107 - val_mse: 2.1359e-04\n",
            "Epoch 46/200\n",
            "9/9 [==============================] - 0s 4ms/step - loss: 0.0112 - mse: 3.8672e-04 - val_loss: 0.0119 - val_mse: 2.1452e-04\n",
            "Epoch 47/200\n",
            "9/9 [==============================] - 0s 4ms/step - loss: 0.0122 - mse: 3.9924e-04 - val_loss: 0.0101 - val_mse: 2.0518e-04\n",
            "Epoch 48/200\n",
            "9/9 [==============================] - 0s 4ms/step - loss: 0.0114 - mse: 3.8885e-04 - val_loss: 0.0111 - val_mse: 2.4004e-04\n",
            "Epoch 49/200\n",
            "9/9 [==============================] - 0s 4ms/step - loss: 0.0109 - mse: 3.7411e-04 - val_loss: 0.0101 - val_mse: 1.8004e-04\n",
            "Epoch 50/200\n",
            "9/9 [==============================] - 0s 3ms/step - loss: 0.0106 - mse: 3.5362e-04 - val_loss: 0.0091 - val_mse: 1.7416e-04\n",
            "Epoch 51/200\n",
            "9/9 [==============================] - 0s 4ms/step - loss: 0.0096 - mse: 3.4303e-04 - val_loss: 0.0095 - val_mse: 1.9253e-04\n",
            "Epoch 52/200\n",
            "9/9 [==============================] - 0s 4ms/step - loss: 0.0105 - mse: 3.7201e-04 - val_loss: 0.0091 - val_mse: 1.5846e-04\n",
            "Epoch 53/200\n",
            "9/9 [==============================] - 0s 4ms/step - loss: 0.0105 - mse: 3.4519e-04 - val_loss: 0.0092 - val_mse: 1.7111e-04\n",
            "Epoch 54/200\n",
            "9/9 [==============================] - 0s 6ms/step - loss: 0.0101 - mse: 3.5004e-04 - val_loss: 0.0088 - val_mse: 1.6844e-04\n",
            "Epoch 55/200\n",
            "9/9 [==============================] - 0s 4ms/step - loss: 0.0097 - mse: 3.4192e-04 - val_loss: 0.0092 - val_mse: 1.8064e-04\n",
            "Epoch 56/200\n",
            "9/9 [==============================] - 0s 4ms/step - loss: 0.0094 - mse: 3.1984e-04 - val_loss: 0.0086 - val_mse: 1.6230e-04\n",
            "Epoch 57/200\n",
            "9/9 [==============================] - 0s 4ms/step - loss: 0.0093 - mse: 3.2527e-04 - val_loss: 0.0091 - val_mse: 1.7689e-04\n",
            "Epoch 58/200\n",
            "9/9 [==============================] - 0s 5ms/step - loss: 0.0098 - mse: 3.2463e-04 - val_loss: 0.0119 - val_mse: 2.4979e-04\n",
            "Epoch 59/200\n",
            "9/9 [==============================] - 0s 4ms/step - loss: 0.0116 - mse: 3.6028e-04 - val_loss: 0.0096 - val_mse: 1.8835e-04\n",
            "Epoch 60/200\n",
            "9/9 [==============================] - 0s 4ms/step - loss: 0.0100 - mse: 3.0345e-04 - val_loss: 0.0107 - val_mse: 1.8244e-04\n",
            "Epoch 61/200\n",
            "9/9 [==============================] - 0s 4ms/step - loss: 0.0096 - mse: 3.0597e-04 - val_loss: 0.0093 - val_mse: 1.7900e-04\n",
            "Epoch 62/200\n",
            "9/9 [==============================] - 0s 4ms/step - loss: 0.0092 - mse: 2.9733e-04 - val_loss: 0.0103 - val_mse: 1.7529e-04\n",
            "Epoch 63/200\n",
            "9/9 [==============================] - 0s 4ms/step - loss: 0.0098 - mse: 3.0184e-04 - val_loss: 0.0113 - val_mse: 2.3634e-04\n",
            "Epoch 64/200\n",
            "9/9 [==============================] - 0s 4ms/step - loss: 0.0107 - mse: 3.2162e-04 - val_loss: 0.0086 - val_mse: 1.4768e-04\n",
            "Epoch 65/200\n",
            "9/9 [==============================] - 0s 4ms/step - loss: 0.0096 - mse: 2.9182e-04 - val_loss: 0.0085 - val_mse: 1.5751e-04\n",
            "Epoch 66/200\n",
            "9/9 [==============================] - 0s 5ms/step - loss: 0.0084 - mse: 2.7547e-04 - val_loss: 0.0085 - val_mse: 1.4319e-04\n",
            "Epoch 67/200\n",
            "9/9 [==============================] - 0s 4ms/step - loss: 0.0086 - mse: 2.7384e-04 - val_loss: 0.0081 - val_mse: 1.3663e-04\n",
            "Epoch 68/200\n",
            "9/9 [==============================] - 0s 4ms/step - loss: 0.0082 - mse: 2.6542e-04 - val_loss: 0.0087 - val_mse: 1.6377e-04\n",
            "Epoch 69/200\n",
            "9/9 [==============================] - 0s 3ms/step - loss: 0.0082 - mse: 2.6106e-04 - val_loss: 0.0077 - val_mse: 1.3557e-04\n",
            "Epoch 70/200\n",
            "9/9 [==============================] - 0s 4ms/step - loss: 0.0089 - mse: 2.6598e-04 - val_loss: 0.0083 - val_mse: 1.3575e-04\n",
            "Epoch 71/200\n",
            "9/9 [==============================] - 0s 4ms/step - loss: 0.0081 - mse: 2.5226e-04 - val_loss: 0.0081 - val_mse: 1.3615e-04\n",
            "Epoch 72/200\n",
            "9/9 [==============================] - 0s 4ms/step - loss: 0.0080 - mse: 2.4445e-04 - val_loss: 0.0105 - val_mse: 2.0697e-04\n",
            "Epoch 73/200\n",
            "9/9 [==============================] - 0s 4ms/step - loss: 0.0091 - mse: 2.7023e-04 - val_loss: 0.0086 - val_mse: 1.2983e-04\n",
            "Epoch 74/200\n",
            "9/9 [==============================] - 0s 4ms/step - loss: 0.0087 - mse: 2.5615e-04 - val_loss: 0.0088 - val_mse: 1.5753e-04\n",
            "Epoch 75/200\n",
            "9/9 [==============================] - 0s 4ms/step - loss: 0.0082 - mse: 2.4066e-04 - val_loss: 0.0078 - val_mse: 1.2958e-04\n",
            "Epoch 76/200\n",
            "9/9 [==============================] - 0s 4ms/step - loss: 0.0078 - mse: 2.3348e-04 - val_loss: 0.0072 - val_mse: 1.1566e-04\n",
            "Epoch 77/200\n",
            "9/9 [==============================] - 0s 4ms/step - loss: 0.0075 - mse: 2.3066e-04 - val_loss: 0.0080 - val_mse: 1.2928e-04\n",
            "Epoch 78/200\n",
            "9/9 [==============================] - 0s 4ms/step - loss: 0.0075 - mse: 2.2081e-04 - val_loss: 0.0070 - val_mse: 1.0782e-04\n",
            "Epoch 79/200\n",
            "9/9 [==============================] - 0s 4ms/step - loss: 0.0074 - mse: 2.3128e-04 - val_loss: 0.0087 - val_mse: 1.4995e-04\n",
            "Epoch 80/200\n",
            "9/9 [==============================] - 0s 4ms/step - loss: 0.0080 - mse: 2.2479e-04 - val_loss: 0.0073 - val_mse: 1.0856e-04\n",
            "Epoch 81/200\n",
            "9/9 [==============================] - 0s 4ms/step - loss: 0.0076 - mse: 2.2667e-04 - val_loss: 0.0070 - val_mse: 1.0325e-04\n",
            "Epoch 82/200\n",
            "9/9 [==============================] - 0s 4ms/step - loss: 0.0074 - mse: 2.1037e-04 - val_loss: 0.0069 - val_mse: 1.0789e-04\n",
            "Epoch 83/200\n",
            "9/9 [==============================] - 0s 4ms/step - loss: 0.0072 - mse: 2.1290e-04 - val_loss: 0.0072 - val_mse: 1.0691e-04\n",
            "Epoch 84/200\n",
            "9/9 [==============================] - 0s 4ms/step - loss: 0.0070 - mse: 2.0201e-04 - val_loss: 0.0072 - val_mse: 1.0770e-04\n",
            "Epoch 85/200\n",
            "9/9 [==============================] - 0s 4ms/step - loss: 0.0073 - mse: 2.0824e-04 - val_loss: 0.0070 - val_mse: 1.0265e-04\n",
            "Epoch 86/200\n",
            "9/9 [==============================] - 0s 4ms/step - loss: 0.0072 - mse: 2.0438e-04 - val_loss: 0.0070 - val_mse: 1.0480e-04\n",
            "Epoch 87/200\n",
            "9/9 [==============================] - 0s 4ms/step - loss: 0.0077 - mse: 2.0554e-04 - val_loss: 0.0071 - val_mse: 1.1077e-04\n",
            "Epoch 88/200\n",
            "9/9 [==============================] - 0s 4ms/step - loss: 0.0070 - mse: 1.9780e-04 - val_loss: 0.0069 - val_mse: 1.0250e-04\n",
            "Epoch 89/200\n",
            "9/9 [==============================] - 0s 4ms/step - loss: 0.0073 - mse: 1.9954e-04 - val_loss: 0.0066 - val_mse: 9.8067e-05\n",
            "Epoch 90/200\n",
            "9/9 [==============================] - 0s 4ms/step - loss: 0.0068 - mse: 1.9622e-04 - val_loss: 0.0073 - val_mse: 9.7655e-05\n",
            "Epoch 91/200\n",
            "9/9 [==============================] - 0s 7ms/step - loss: 0.0072 - mse: 1.9586e-04 - val_loss: 0.0075 - val_mse: 1.0636e-04\n",
            "Epoch 92/200\n",
            "9/9 [==============================] - 0s 4ms/step - loss: 0.0079 - mse: 2.0656e-04 - val_loss: 0.0096 - val_mse: 1.6157e-04\n",
            "Epoch 93/200\n",
            "9/9 [==============================] - 0s 4ms/step - loss: 0.0079 - mse: 2.0099e-04 - val_loss: 0.0086 - val_mse: 1.1898e-04\n",
            "Epoch 94/200\n",
            "9/9 [==============================] - 0s 4ms/step - loss: 0.0086 - mse: 2.1370e-04 - val_loss: 0.0081 - val_mse: 1.2022e-04\n",
            "Epoch 95/200\n",
            "9/9 [==============================] - 0s 4ms/step - loss: 0.0074 - mse: 1.9812e-04 - val_loss: 0.0069 - val_mse: 9.7956e-05\n",
            "Epoch 96/200\n",
            "9/9 [==============================] - 0s 4ms/step - loss: 0.0070 - mse: 1.8530e-04 - val_loss: 0.0071 - val_mse: 9.3872e-05\n",
            "Epoch 97/200\n",
            "9/9 [==============================] - 0s 4ms/step - loss: 0.0068 - mse: 1.7461e-04 - val_loss: 0.0071 - val_mse: 1.0079e-04\n",
            "Epoch 98/200\n",
            "9/9 [==============================] - 0s 4ms/step - loss: 0.0066 - mse: 1.7635e-04 - val_loss: 0.0065 - val_mse: 8.8652e-05\n",
            "Epoch 99/200\n",
            "9/9 [==============================] - 0s 4ms/step - loss: 0.0065 - mse: 1.7010e-04 - val_loss: 0.0076 - val_mse: 1.1246e-04\n",
            "Epoch 100/200\n",
            "9/9 [==============================] - 0s 4ms/step - loss: 0.0071 - mse: 1.8908e-04 - val_loss: 0.0063 - val_mse: 8.4322e-05\n",
            "Epoch 101/200\n",
            "9/9 [==============================] - 0s 4ms/step - loss: 0.0065 - mse: 1.7207e-04 - val_loss: 0.0078 - val_mse: 1.1883e-04\n",
            "Epoch 102/200\n",
            "9/9 [==============================] - 0s 4ms/step - loss: 0.0066 - mse: 1.7099e-04 - val_loss: 0.0066 - val_mse: 8.1155e-05\n",
            "Epoch 103/200\n",
            "9/9 [==============================] - 0s 3ms/step - loss: 0.0067 - mse: 1.7355e-04 - val_loss: 0.0066 - val_mse: 8.9393e-05\n",
            "Epoch 104/200\n",
            "9/9 [==============================] - 0s 4ms/step - loss: 0.0066 - mse: 1.7271e-04 - val_loss: 0.0067 - val_mse: 8.8040e-05\n",
            "Epoch 105/200\n",
            "9/9 [==============================] - 0s 5ms/step - loss: 0.0063 - mse: 1.6115e-04 - val_loss: 0.0061 - val_mse: 8.3239e-05\n",
            "Epoch 106/200\n",
            "9/9 [==============================] - 0s 6ms/step - loss: 0.0065 - mse: 1.6490e-04 - val_loss: 0.0067 - val_mse: 8.7671e-05\n",
            "Epoch 107/200\n",
            "9/9 [==============================] - 0s 4ms/step - loss: 0.0062 - mse: 1.6039e-04 - val_loss: 0.0062 - val_mse: 7.7883e-05\n",
            "Epoch 108/200\n",
            "9/9 [==============================] - 0s 7ms/step - loss: 0.0063 - mse: 1.6152e-04 - val_loss: 0.0064 - val_mse: 8.1626e-05\n",
            "Epoch 109/200\n",
            "9/9 [==============================] - 0s 4ms/step - loss: 0.0064 - mse: 1.6141e-04 - val_loss: 0.0058 - val_mse: 7.6264e-05\n",
            "Epoch 110/200\n",
            "9/9 [==============================] - 0s 4ms/step - loss: 0.0062 - mse: 1.6328e-04 - val_loss: 0.0086 - val_mse: 1.2344e-04\n",
            "Epoch 111/200\n",
            "9/9 [==============================] - 0s 4ms/step - loss: 0.0072 - mse: 1.6722e-04 - val_loss: 0.0065 - val_mse: 8.4726e-05\n",
            "Epoch 112/200\n",
            "9/9 [==============================] - 0s 5ms/step - loss: 0.0061 - mse: 1.5231e-04 - val_loss: 0.0061 - val_mse: 7.4160e-05\n",
            "Epoch 113/200\n",
            "9/9 [==============================] - 0s 4ms/step - loss: 0.0069 - mse: 1.6752e-04 - val_loss: 0.0081 - val_mse: 1.0840e-04\n",
            "Epoch 114/200\n",
            "9/9 [==============================] - 0s 4ms/step - loss: 0.0068 - mse: 1.6347e-04 - val_loss: 0.0061 - val_mse: 7.4519e-05\n",
            "Epoch 115/200\n",
            "9/9 [==============================] - 0s 4ms/step - loss: 0.0064 - mse: 1.5293e-04 - val_loss: 0.0061 - val_mse: 8.2590e-05\n",
            "Epoch 116/200\n",
            "9/9 [==============================] - 0s 4ms/step - loss: 0.0059 - mse: 1.4810e-04 - val_loss: 0.0064 - val_mse: 7.5491e-05\n",
            "Epoch 117/200\n",
            "9/9 [==============================] - 0s 4ms/step - loss: 0.0068 - mse: 1.5555e-04 - val_loss: 0.0087 - val_mse: 1.0908e-04\n",
            "Epoch 118/200\n",
            "9/9 [==============================] - 0s 4ms/step - loss: 0.0079 - mse: 1.7223e-04 - val_loss: 0.0088 - val_mse: 1.2890e-04\n",
            "Epoch 119/200\n",
            "9/9 [==============================] - 0s 4ms/step - loss: 0.0072 - mse: 1.6176e-04 - val_loss: 0.0064 - val_mse: 7.7855e-05\n",
            "Epoch 120/200\n",
            "9/9 [==============================] - 0s 4ms/step - loss: 0.0065 - mse: 1.5600e-04 - val_loss: 0.0067 - val_mse: 8.2498e-05\n",
            "Epoch 121/200\n",
            "9/9 [==============================] - 0s 4ms/step - loss: 0.0064 - mse: 1.4704e-04 - val_loss: 0.0057 - val_mse: 6.7138e-05\n",
            "Epoch 122/200\n",
            "9/9 [==============================] - 0s 4ms/step - loss: 0.0062 - mse: 1.4180e-04 - val_loss: 0.0062 - val_mse: 7.4797e-05\n",
            "Epoch 123/200\n",
            "9/9 [==============================] - 0s 4ms/step - loss: 0.0059 - mse: 1.4307e-04 - val_loss: 0.0065 - val_mse: 7.8865e-05\n",
            "Epoch 124/200\n",
            "9/9 [==============================] - 0s 4ms/step - loss: 0.0059 - mse: 1.4117e-04 - val_loss: 0.0074 - val_mse: 9.9049e-05\n",
            "Epoch 125/200\n",
            "9/9 [==============================] - 0s 4ms/step - loss: 0.0062 - mse: 1.4316e-04 - val_loss: 0.0068 - val_mse: 8.3701e-05\n",
            "Epoch 126/200\n",
            "9/9 [==============================] - 0s 4ms/step - loss: 0.0060 - mse: 1.3774e-04 - val_loss: 0.0063 - val_mse: 6.9537e-05\n",
            "Epoch 127/200\n",
            "9/9 [==============================] - 0s 3ms/step - loss: 0.0059 - mse: 1.3819e-04 - val_loss: 0.0062 - val_mse: 7.2859e-05\n",
            "Epoch 128/200\n",
            "9/9 [==============================] - 0s 3ms/step - loss: 0.0058 - mse: 1.3575e-04 - val_loss: 0.0066 - val_mse: 8.1110e-05\n",
            "Epoch 129/200\n",
            "9/9 [==============================] - 0s 4ms/step - loss: 0.0058 - mse: 1.3482e-04 - val_loss: 0.0056 - val_mse: 6.5690e-05\n",
            "Epoch 130/200\n",
            "9/9 [==============================] - 0s 6ms/step - loss: 0.0056 - mse: 1.3123e-04 - val_loss: 0.0064 - val_mse: 8.1512e-05\n",
            "Epoch 131/200\n",
            "9/9 [==============================] - 0s 4ms/step - loss: 0.0057 - mse: 1.3195e-04 - val_loss: 0.0057 - val_mse: 6.2623e-05\n",
            "Epoch 132/200\n",
            "9/9 [==============================] - 0s 4ms/step - loss: 0.0059 - mse: 1.3574e-04 - val_loss: 0.0059 - val_mse: 6.5346e-05\n",
            "Epoch 133/200\n",
            "9/9 [==============================] - 0s 4ms/step - loss: 0.0053 - mse: 1.2592e-04 - val_loss: 0.0069 - val_mse: 8.4696e-05\n",
            "Epoch 134/200\n",
            "9/9 [==============================] - 0s 5ms/step - loss: 0.0056 - mse: 1.3209e-04 - val_loss: 0.0057 - val_mse: 6.5068e-05\n",
            "Epoch 135/200\n",
            "9/9 [==============================] - 0s 4ms/step - loss: 0.0054 - mse: 1.2775e-04 - val_loss: 0.0074 - val_mse: 9.3492e-05\n",
            "Epoch 136/200\n",
            "9/9 [==============================] - 0s 4ms/step - loss: 0.0057 - mse: 1.3110e-04 - val_loss: 0.0062 - val_mse: 7.1465e-05\n",
            "Epoch 137/200\n",
            "9/9 [==============================] - 0s 4ms/step - loss: 0.0064 - mse: 1.4430e-04 - val_loss: 0.0059 - val_mse: 6.2918e-05\n",
            "Epoch 138/200\n",
            "9/9 [==============================] - 0s 4ms/step - loss: 0.0057 - mse: 1.2682e-04 - val_loss: 0.0057 - val_mse: 6.5098e-05\n",
            "Epoch 139/200\n",
            "9/9 [==============================] - 0s 4ms/step - loss: 0.0055 - mse: 1.2549e-04 - val_loss: 0.0058 - val_mse: 6.3061e-05\n",
            "Epoch 140/200\n",
            "9/9 [==============================] - 0s 4ms/step - loss: 0.0057 - mse: 1.2857e-04 - val_loss: 0.0053 - val_mse: 5.6156e-05\n",
            "Epoch 141/200\n",
            "9/9 [==============================] - 0s 4ms/step - loss: 0.0059 - mse: 1.3189e-04 - val_loss: 0.0059 - val_mse: 7.0013e-05\n",
            "Epoch 142/200\n",
            "9/9 [==============================] - 0s 4ms/step - loss: 0.0072 - mse: 1.4485e-04 - val_loss: 0.0084 - val_mse: 1.1673e-04\n",
            "Epoch 143/200\n",
            "9/9 [==============================] - 0s 4ms/step - loss: 0.0074 - mse: 1.4984e-04 - val_loss: 0.0067 - val_mse: 7.4991e-05\n",
            "Epoch 144/200\n",
            "9/9 [==============================] - 0s 5ms/step - loss: 0.0069 - mse: 1.4149e-04 - val_loss: 0.0063 - val_mse: 7.4388e-05\n",
            "Epoch 145/200\n",
            "9/9 [==============================] - 0s 4ms/step - loss: 0.0058 - mse: 1.2646e-04 - val_loss: 0.0062 - val_mse: 7.1872e-05\n",
            "Epoch 146/200\n",
            "9/9 [==============================] - 0s 4ms/step - loss: 0.0056 - mse: 1.2395e-04 - val_loss: 0.0055 - val_mse: 6.0654e-05\n",
            "Epoch 147/200\n",
            "9/9 [==============================] - 0s 4ms/step - loss: 0.0056 - mse: 1.2454e-04 - val_loss: 0.0065 - val_mse: 7.6660e-05\n",
            "Epoch 148/200\n",
            "9/9 [==============================] - 0s 4ms/step - loss: 0.0058 - mse: 1.2500e-04 - val_loss: 0.0058 - val_mse: 5.9706e-05\n",
            "Epoch 149/200\n",
            "9/9 [==============================] - 0s 4ms/step - loss: 0.0062 - mse: 1.2927e-04 - val_loss: 0.0058 - val_mse: 6.2473e-05\n",
            "Epoch 150/200\n",
            "9/9 [==============================] - 0s 4ms/step - loss: 0.0065 - mse: 1.3701e-04 - val_loss: 0.0095 - val_mse: 1.2981e-04\n",
            "Epoch 151/200\n",
            "9/9 [==============================] - 0s 3ms/step - loss: 0.0073 - mse: 1.4511e-04 - val_loss: 0.0060 - val_mse: 6.4035e-05\n",
            "Epoch 152/200\n",
            "9/9 [==============================] - 0s 4ms/step - loss: 0.0056 - mse: 1.2467e-04 - val_loss: 0.0061 - val_mse: 6.5278e-05\n",
            "Epoch 153/200\n",
            "9/9 [==============================] - 0s 4ms/step - loss: 0.0060 - mse: 1.2973e-04 - val_loss: 0.0060 - val_mse: 6.8989e-05\n",
            "Epoch 154/200\n",
            "9/9 [==============================] - 0s 6ms/step - loss: 0.0054 - mse: 1.1820e-04 - val_loss: 0.0054 - val_mse: 5.9033e-05\n",
            "Epoch 155/200\n",
            "9/9 [==============================] - 0s 6ms/step - loss: 0.0051 - mse: 1.1549e-04 - val_loss: 0.0059 - val_mse: 6.4473e-05\n",
            "Epoch 156/200\n",
            "9/9 [==============================] - 0s 5ms/step - loss: 0.0051 - mse: 1.1545e-04 - val_loss: 0.0059 - val_mse: 6.3043e-05\n",
            "Epoch 157/200\n",
            "9/9 [==============================] - 0s 5ms/step - loss: 0.0053 - mse: 1.1731e-04 - val_loss: 0.0058 - val_mse: 5.6685e-05\n",
            "Epoch 158/200\n",
            "9/9 [==============================] - 0s 6ms/step - loss: 0.0056 - mse: 1.2123e-04 - val_loss: 0.0054 - val_mse: 5.6127e-05\n",
            "Epoch 159/200\n",
            "9/9 [==============================] - 0s 5ms/step - loss: 0.0051 - mse: 1.1639e-04 - val_loss: 0.0077 - val_mse: 9.7622e-05\n",
            "Epoch 160/200\n",
            "9/9 [==============================] - 0s 5ms/step - loss: 0.0063 - mse: 1.2481e-04 - val_loss: 0.0070 - val_mse: 7.4068e-05\n",
            "Epoch 161/200\n",
            "9/9 [==============================] - 0s 7ms/step - loss: 0.0061 - mse: 1.2521e-04 - val_loss: 0.0053 - val_mse: 5.6233e-05\n",
            "Epoch 162/200\n",
            "9/9 [==============================] - 0s 5ms/step - loss: 0.0053 - mse: 1.1381e-04 - val_loss: 0.0051 - val_mse: 4.9565e-05\n",
            "Epoch 163/200\n",
            "9/9 [==============================] - 0s 5ms/step - loss: 0.0050 - mse: 1.1255e-04 - val_loss: 0.0052 - val_mse: 5.3956e-05\n",
            "Epoch 164/200\n",
            "9/9 [==============================] - 0s 6ms/step - loss: 0.0050 - mse: 1.1261e-04 - val_loss: 0.0051 - val_mse: 5.2310e-05\n",
            "Epoch 165/200\n",
            "9/9 [==============================] - 0s 5ms/step - loss: 0.0049 - mse: 1.1086e-04 - val_loss: 0.0082 - val_mse: 9.3837e-05\n",
            "Epoch 166/200\n",
            "9/9 [==============================] - 0s 5ms/step - loss: 0.0080 - mse: 1.5250e-04 - val_loss: 0.0069 - val_mse: 8.1968e-05\n",
            "Epoch 167/200\n",
            "9/9 [==============================] - 0s 7ms/step - loss: 0.0066 - mse: 1.3120e-04 - val_loss: 0.0057 - val_mse: 6.2335e-05\n",
            "Epoch 168/200\n",
            "9/9 [==============================] - 0s 5ms/step - loss: 0.0056 - mse: 1.1685e-04 - val_loss: 0.0057 - val_mse: 6.1400e-05\n",
            "Epoch 169/200\n",
            "9/9 [==============================] - 0s 5ms/step - loss: 0.0053 - mse: 1.1384e-04 - val_loss: 0.0068 - val_mse: 8.5140e-05\n",
            "Epoch 170/200\n",
            "9/9 [==============================] - 0s 4ms/step - loss: 0.0060 - mse: 1.2053e-04 - val_loss: 0.0089 - val_mse: 1.0991e-04\n",
            "Epoch 171/200\n",
            "9/9 [==============================] - 0s 4ms/step - loss: 0.0071 - mse: 1.3942e-04 - val_loss: 0.0075 - val_mse: 9.2648e-05\n",
            "Epoch 172/200\n",
            "9/9 [==============================] - 0s 4ms/step - loss: 0.0057 - mse: 1.1651e-04 - val_loss: 0.0055 - val_mse: 5.4740e-05\n",
            "Epoch 173/200\n",
            "9/9 [==============================] - 0s 5ms/step - loss: 0.0050 - mse: 1.1210e-04 - val_loss: 0.0052 - val_mse: 5.0917e-05\n",
            "Epoch 174/200\n",
            "9/9 [==============================] - 0s 7ms/step - loss: 0.0052 - mse: 1.1326e-04 - val_loss: 0.0051 - val_mse: 5.4783e-05\n",
            "Epoch 175/200\n",
            "9/9 [==============================] - 0s 5ms/step - loss: 0.0055 - mse: 1.1311e-04 - val_loss: 0.0062 - val_mse: 6.7907e-05\n",
            "Epoch 176/200\n",
            "9/9 [==============================] - 0s 8ms/step - loss: 0.0052 - mse: 1.1034e-04 - val_loss: 0.0055 - val_mse: 5.7380e-05\n",
            "Epoch 177/200\n",
            "9/9 [==============================] - 0s 5ms/step - loss: 0.0056 - mse: 1.1654e-04 - val_loss: 0.0056 - val_mse: 6.0433e-05\n",
            "Epoch 178/200\n",
            "9/9 [==============================] - 0s 7ms/step - loss: 0.0050 - mse: 1.0903e-04 - val_loss: 0.0054 - val_mse: 5.3749e-05\n",
            "Epoch 179/200\n",
            "9/9 [==============================] - 0s 8ms/step - loss: 0.0052 - mse: 1.1316e-04 - val_loss: 0.0053 - val_mse: 5.5788e-05\n",
            "Epoch 180/200\n",
            "9/9 [==============================] - 0s 5ms/step - loss: 0.0049 - mse: 1.0721e-04 - val_loss: 0.0053 - val_mse: 5.4799e-05\n",
            "Epoch 181/200\n",
            "9/9 [==============================] - 0s 5ms/step - loss: 0.0048 - mse: 1.0597e-04 - val_loss: 0.0053 - val_mse: 5.6630e-05\n",
            "Epoch 182/200\n",
            "9/9 [==============================] - 0s 5ms/step - loss: 0.0049 - mse: 1.0767e-04 - val_loss: 0.0060 - val_mse: 5.9557e-05\n",
            "Epoch 183/200\n",
            "9/9 [==============================] - 0s 5ms/step - loss: 0.0061 - mse: 1.2494e-04 - val_loss: 0.0063 - val_mse: 7.4071e-05\n",
            "Epoch 184/200\n",
            "9/9 [==============================] - 0s 5ms/step - loss: 0.0055 - mse: 1.1197e-04 - val_loss: 0.0080 - val_mse: 1.0008e-04\n",
            "Epoch 185/200\n",
            "9/9 [==============================] - 0s 4ms/step - loss: 0.0070 - mse: 1.3891e-04 - val_loss: 0.0061 - val_mse: 6.0710e-05\n",
            "Epoch 186/200\n",
            "9/9 [==============================] - 0s 5ms/step - loss: 0.0059 - mse: 1.1622e-04 - val_loss: 0.0061 - val_mse: 7.2125e-05\n",
            "Epoch 187/200\n",
            "9/9 [==============================] - 0s 6ms/step - loss: 0.0053 - mse: 1.1222e-04 - val_loss: 0.0051 - val_mse: 4.8159e-05\n",
            "Epoch 188/200\n",
            "9/9 [==============================] - 0s 6ms/step - loss: 0.0053 - mse: 1.1066e-04 - val_loss: 0.0050 - val_mse: 5.0429e-05\n",
            "Epoch 189/200\n",
            "9/9 [==============================] - 0s 5ms/step - loss: 0.0052 - mse: 1.1006e-04 - val_loss: 0.0052 - val_mse: 4.9925e-05\n",
            "Epoch 190/200\n",
            "9/9 [==============================] - 0s 5ms/step - loss: 0.0049 - mse: 1.0435e-04 - val_loss: 0.0070 - val_mse: 8.7503e-05\n",
            "Epoch 191/200\n",
            "9/9 [==============================] - 0s 7ms/step - loss: 0.0056 - mse: 1.1129e-04 - val_loss: 0.0053 - val_mse: 5.0568e-05\n",
            "Epoch 192/200\n",
            "9/9 [==============================] - 0s 7ms/step - loss: 0.0055 - mse: 1.1128e-04 - val_loss: 0.0059 - val_mse: 5.8087e-05\n",
            "Epoch 193/200\n",
            "9/9 [==============================] - 0s 6ms/step - loss: 0.0059 - mse: 1.1267e-04 - val_loss: 0.0075 - val_mse: 9.4231e-05\n",
            "Epoch 194/200\n",
            "9/9 [==============================] - 0s 5ms/step - loss: 0.0053 - mse: 1.0665e-04 - val_loss: 0.0063 - val_mse: 6.7528e-05\n",
            "Epoch 195/200\n",
            "9/9 [==============================] - 0s 6ms/step - loss: 0.0057 - mse: 1.1635e-04 - val_loss: 0.0051 - val_mse: 5.3916e-05\n",
            "Epoch 196/200\n",
            "9/9 [==============================] - 0s 4ms/step - loss: 0.0050 - mse: 1.0309e-04 - val_loss: 0.0048 - val_mse: 4.7617e-05\n",
            "Epoch 197/200\n",
            "9/9 [==============================] - 0s 4ms/step - loss: 0.0048 - mse: 1.0420e-04 - val_loss: 0.0074 - val_mse: 8.9310e-05\n",
            "Epoch 198/200\n",
            "9/9 [==============================] - 0s 4ms/step - loss: 0.0056 - mse: 1.0983e-04 - val_loss: 0.0053 - val_mse: 5.5387e-05\n",
            "Epoch 199/200\n",
            "9/9 [==============================] - 0s 4ms/step - loss: 0.0050 - mse: 1.0338e-04 - val_loss: 0.0049 - val_mse: 4.9232e-05\n",
            "Epoch 200/200\n",
            "9/9 [==============================] - 0s 4ms/step - loss: 0.0053 - mse: 1.0435e-04 - val_loss: 0.0052 - val_mse: 4.8284e-05\n"
          ]
        }
      ]
    },
    {
      "cell_type": "code",
      "source": [
        "def plot_history(history, title, xlabel='epochs', ylabel='mae mse'):\n",
        "  plt.figure(figsize=(10, 6))\n",
        "  plt.plot(history.history['loss'], 'b')\n",
        "  plt.plot(history.history['mse'], 'r')\n",
        "  plt.title(title)\n",
        "  plt.xlabel(xlabel)\n",
        "  plt.ylabel(ylabel)\n",
        "  plt.legend(['mae', 'mse', 'val_mae', 'val_mse'], loc='upper right', fontsize='15')\n",
        "  plt.show()"
      ],
      "metadata": {
        "id": "Psbd31qX7ZTR"
      },
      "execution_count": null,
      "outputs": []
    },
    {
      "cell_type": "code",
      "source": [
        "plot_history(history, \"Hasil Training\")"
      ],
      "metadata": {
        "colab": {
          "base_uri": "https://localhost:8080/",
          "height": 564
        },
        "id": "S-XkjQ9g7-7H",
        "outputId": "2e552915-1f68-48eb-b8a9-03f1d1ab398b"
      },
      "execution_count": null,
      "outputs": [
        {
          "output_type": "display_data",
          "data": {
            "text/plain": [
              "<Figure size 1000x600 with 1 Axes>"
            ],
            "image/png": "[encoded data removed]"
          },
          "metadata": {}
        }
      ]
    },
    {
      "cell_type": "code",
      "source": [
        "metric = model.get_metrics_result()"
      ],
      "metadata": {
        "id": "aH0lRc4C97Tn"
      },
      "execution_count": null,
      "outputs": []
    },
    {
      "cell_type": "code",
      "source": [
        "metric"
      ],
      "metadata": {
        "colab": {
          "base_uri": "https://localhost:8080/"
        },
        "id": "NbYisHE799cl",
        "outputId": "1fb72552-0338-404f-b3c8-32fd5f5de129"
      },
      "execution_count": null,
      "outputs": [
        {
          "output_type": "execute_result",
          "data": {
            "text/plain": [
              "{'loss': <tf.Tensor: shape=(), dtype=float32, numpy=0.005215406>,\n",
              " 'mse': <tf.Tensor: shape=(), dtype=float32, numpy=4.8284e-05>}"
            ]
          },
          "metadata": {},
          "execution_count": 45
        }
      ]
    },
    {
      "cell_type": "code",
      "source": [
        "prediksi = model.predict(X_test)"
      ],
      "metadata": {
        "colab": {
          "base_uri": "https://localhost:8080/"
        },
        "id": "ay2a-cKk8QTg",
        "outputId": "bd7f3167-095a-42fb-fa0e-c947fee77f09"
      },
      "execution_count": null,
      "outputs": [
        {
          "output_type": "stream",
          "name": "stdout",
          "text": [
            "4/4 [==============================] - 0s 2ms/step\n"
          ]
        }
      ]
    },
    {
      "cell_type": "code",
      "source": [
        "corr, _ = spearmanr(y_test, prediksi)"
      ],
      "metadata": {
        "id": "gtP_NLyA8UxX"
      },
      "execution_count": null,
      "outputs": []
    },
    {
      "cell_type": "code",
      "source": [
        "corr"
      ],
      "metadata": {
        "colab": {
          "base_uri": "https://localhost:8080/"
        },
        "id": "mNj9ynqx8kAo",
        "outputId": "aa030ff6-d326-47fa-9945-bbe007e2f935"
      },
      "execution_count": null,
      "outputs": [
        {
          "output_type": "execute_result",
          "data": {
            "text/plain": [
              "0.9991656593597824"
            ]
          },
          "metadata": {},
          "execution_count": 48
        }
      ]
    }
  ]
}